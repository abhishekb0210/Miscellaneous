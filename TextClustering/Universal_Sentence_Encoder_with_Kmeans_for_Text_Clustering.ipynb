{
  "nbformat": 4,
  "nbformat_minor": 0,
  "metadata": {
    "accelerator": "GPU",
    "colab": {
      "name": "Universal Sentence Encoder with Kmeans for Text Clustering",
      "provenance": [],
      "collapsed_sections": []
    },
    "kernelspec": {
      "display_name": "Python 3",
      "language": "python",
      "name": "python3"
    }
  },
  "cells": [
    {
      "cell_type": "markdown",
      "metadata": {
        "colab_type": "text",
        "id": "63Pd3nJnTl-i"
      },
      "source": [
        "More detailed information about installing Tensorflow can be found at [https://www.tensorflow.org/install/](https://www.tensorflow.org/install/)."
      ]
    },
    {
      "cell_type": "code",
      "metadata": {
        "id": "TmHZlMthMlYl",
        "colab_type": "code",
        "colab": {
          "base_uri": "https://localhost:8080/",
          "height": 523
        },
        "outputId": "4310a96d-aeb6-46dc-b951-17abae4a39e2"
      },
      "source": [
        "!pip install ftfy\n",
        "!pip install contractions"
      ],
      "execution_count": null,
      "outputs": [
        {
          "output_type": "stream",
          "text": [
            "Collecting ftfy\n",
            "\u001b[?25l  Downloading https://files.pythonhosted.org/packages/ec/d8/5e877ac5e827eaa41a7ea8c0dc1d3042e05d7e337604dc2aedb854e7b500/ftfy-5.7.tar.gz (58kB)\n",
            "\r\u001b[K     |█████▋                          | 10kB 14.9MB/s eta 0:00:01\r\u001b[K     |███████████▏                    | 20kB 2.0MB/s eta 0:00:01\r\u001b[K     |████████████████▊               | 30kB 2.3MB/s eta 0:00:01\r\u001b[K     |██████████████████████▎         | 40kB 2.6MB/s eta 0:00:01\r\u001b[K     |███████████████████████████▉    | 51kB 2.5MB/s eta 0:00:01\r\u001b[K     |████████████████████████████████| 61kB 2.0MB/s \n",
            "\u001b[?25hRequirement already satisfied: wcwidth in /usr/local/lib/python3.6/dist-packages (from ftfy) (0.2.5)\n",
            "Building wheels for collected packages: ftfy\n",
            "  Building wheel for ftfy (setup.py) ... \u001b[?25l\u001b[?25hdone\n",
            "  Created wheel for ftfy: filename=ftfy-5.7-cp36-none-any.whl size=44593 sha256=5c1bac2332ec0f34bdd48d64e440d0e7dd30a2a76dcbea29ccfa407cf8c3d7b1\n",
            "  Stored in directory: /root/.cache/pip/wheels/8e/da/59/6c8925d571aacade638a0f515960c21c0887af1bfe31908fbf\n",
            "Successfully built ftfy\n",
            "Installing collected packages: ftfy\n",
            "Successfully installed ftfy-5.7\n",
            "Collecting contractions\n",
            "  Downloading https://files.pythonhosted.org/packages/00/92/a05b76a692ac08d470ae5c23873cf1c9a041532f1ee065e74b374f218306/contractions-0.0.25-py2.py3-none-any.whl\n",
            "Collecting textsearch\n",
            "  Downloading https://files.pythonhosted.org/packages/42/a8/03407021f9555043de5492a2bd7a35c56cc03c2510092b5ec018cae1bbf1/textsearch-0.0.17-py2.py3-none-any.whl\n",
            "Collecting pyahocorasick\n",
            "\u001b[?25l  Downloading https://files.pythonhosted.org/packages/f4/9f/f0d8e8850e12829eea2e778f1c90e3c53a9a799b7f412082a5d21cd19ae1/pyahocorasick-1.4.0.tar.gz (312kB)\n",
            "\u001b[K     |████████████████████████████████| 317kB 4.3MB/s \n",
            "\u001b[?25hCollecting Unidecode\n",
            "\u001b[?25l  Downloading https://files.pythonhosted.org/packages/d0/42/d9edfed04228bacea2d824904cae367ee9efd05e6cce7ceaaedd0b0ad964/Unidecode-1.1.1-py2.py3-none-any.whl (238kB)\n",
            "\u001b[K     |████████████████████████████████| 245kB 18.6MB/s \n",
            "\u001b[?25hBuilding wheels for collected packages: pyahocorasick\n",
            "  Building wheel for pyahocorasick (setup.py) ... \u001b[?25l\u001b[?25hdone\n",
            "  Created wheel for pyahocorasick: filename=pyahocorasick-1.4.0-cp36-cp36m-linux_x86_64.whl size=81696 sha256=0f85c3ea48a9e6f6411abf85f727fe70649f363873201a7d9d9a188f5ffccd98\n",
            "  Stored in directory: /root/.cache/pip/wheels/0a/90/61/87a55f5b459792fbb2b7ba6b31721b06ff5cf6bde541b40994\n",
            "Successfully built pyahocorasick\n",
            "Installing collected packages: pyahocorasick, Unidecode, textsearch, contractions\n",
            "Successfully installed Unidecode-1.1.1 contractions-0.0.25 pyahocorasick-1.4.0 textsearch-0.0.17\n"
          ],
          "name": "stdout"
        }
      ]
    },
    {
      "cell_type": "code",
      "metadata": {
        "id": "3BlNo25cMlQz",
        "colab_type": "code",
        "colab": {}
      },
      "source": [
        ""
      ],
      "execution_count": null,
      "outputs": []
    },
    {
      "cell_type": "code",
      "metadata": {
        "colab_type": "code",
        "id": "zwty8Z6mAkdV",
        "colab": {
          "base_uri": "https://localhost:8080/",
          "height": 35
        },
        "outputId": "3a747400-101b-4e57-ffb9-28ec854748b9"
      },
      "source": [
        "#@title Load the Universal Sentence Encoder's TF Hub module\n",
        "from absl import logging\n",
        "\n",
        "import tensorflow as tf\n",
        "\n",
        "import tensorflow_hub as hub\n",
        "import matplotlib.pyplot as plt\n",
        "import numpy as np\n",
        "import os\n",
        "import pandas as pd\n",
        "\n",
        "module_url = \"https://tfhub.dev/google/universal-sentence-encoder/4\" #@param [\"https://tfhub.dev/google/universal-sentence-encoder/4\", \"https://tfhub.dev/google/universal-sentence-encoder-large/5\"]\n",
        "model = hub.load(module_url)\n",
        "print (\"module %s loaded\" % module_url)\n",
        "def embed(input):\n",
        "  return model(input)"
      ],
      "execution_count": null,
      "outputs": [
        {
          "output_type": "stream",
          "text": [
            "module https://tfhub.dev/google/universal-sentence-encoder/4 loaded\n"
          ],
          "name": "stdout"
        }
      ]
    },
    {
      "cell_type": "code",
      "metadata": {
        "id": "CzRbBIKypE9C",
        "colab_type": "code",
        "colab": {
          "base_uri": "https://localhost:8080/",
          "height": 124
        },
        "outputId": "f1734c57-95a8-42b0-ebad-6b5423029570"
      },
      "source": [
        "from google.colab import drive\n",
        "drive.mount('/content/drive')"
      ],
      "execution_count": null,
      "outputs": [
        {
          "output_type": "stream",
          "text": [
            "Go to this URL in a browser: https://accounts.google.com/o/oauth2/auth?client_id=947318989803-6bn6qk8qdgf4n4g3pfee6491hc0brc4i.apps.googleusercontent.com&redirect_uri=urn%3aietf%3awg%3aoauth%3a2.0%3aoob&response_type=code&scope=email%20https%3a%2f%2fwww.googleapis.com%2fauth%2fdocs.test%20https%3a%2f%2fwww.googleapis.com%2fauth%2fdrive%20https%3a%2f%2fwww.googleapis.com%2fauth%2fdrive.photos.readonly%20https%3a%2f%2fwww.googleapis.com%2fauth%2fpeopleapi.readonly\n",
            "\n",
            "Enter your authorization code:\n",
            "··········\n",
            "Mounted at /content/drive\n"
          ],
          "name": "stdout"
        }
      ]
    },
    {
      "cell_type": "code",
      "metadata": {
        "id": "K-ov_beFpbhr",
        "colab_type": "code",
        "colab": {}
      },
      "source": [
        "import pandas as pd\n",
        "import matplotlib.pyplot as plt\n",
        "  \n",
        "from sklearn.cluster import KMeans\n",
        "from sklearn.decomposition import PCA\n",
        "from sklearn.metrics import silhouette_score\n",
        "from scipy import stats\n",
        "import nltk\n",
        "import string, contractions\n",
        "import ftfy\n",
        "\n",
        "\n",
        "from gensim.models.doc2vec import Doc2Vec, TaggedDocument"
      ],
      "execution_count": null,
      "outputs": []
    },
    {
      "cell_type": "code",
      "metadata": {
        "id": "yaJK2g0bp_E_",
        "colab_type": "code",
        "colab": {
          "base_uri": "https://localhost:8080/",
          "height": 69
        },
        "outputId": "e74bb6d8-00e6-4402-9118-19e561209f1a"
      },
      "source": [
        "nltk.download(\"wordnet\")"
      ],
      "execution_count": null,
      "outputs": [
        {
          "output_type": "stream",
          "text": [
            "[nltk_data] Downloading package wordnet to /root/nltk_data...\n",
            "[nltk_data]   Unzipping corpora/wordnet.zip.\n"
          ],
          "name": "stdout"
        },
        {
          "output_type": "execute_result",
          "data": {
            "text/plain": [
              "True"
            ]
          },
          "metadata": {
            "tags": []
          },
          "execution_count": 4
        }
      ]
    },
    {
      "cell_type": "code",
      "metadata": {
        "id": "ANdNdGiMo9WY",
        "colab_type": "code",
        "colab": {}
      },
      "source": [
        "data = pd.read_excel(\"/content/drive/My Drive/Colab Notebooks/NLP/ISB-Clustering/Company Descriptions.xlsx\")"
      ],
      "execution_count": null,
      "outputs": []
    },
    {
      "cell_type": "code",
      "metadata": {
        "id": "P0hjOyWBpbk8",
        "colab_type": "code",
        "colab": {}
      },
      "source": [
        "data.fillna(value = \"\", inplace=True)"
      ],
      "execution_count": null,
      "outputs": []
    },
    {
      "cell_type": "code",
      "metadata": {
        "id": "Z-k6XISrpbnO",
        "colab_type": "code",
        "colab": {
          "base_uri": "https://localhost:8080/",
          "height": 87
        },
        "outputId": "91394d18-7fe0-4d15-dc58-6545d83991ce"
      },
      "source": [
        "data.isna().sum()  # No NaNs now"
      ],
      "execution_count": null,
      "outputs": [
        {
          "output_type": "execute_result",
          "data": {
            "text/plain": [
              "company_name                 0\n",
              "company_short_description    0\n",
              "company_description          0\n",
              "dtype: int64"
            ]
          },
          "metadata": {
            "tags": []
          },
          "execution_count": 7
        }
      ]
    },
    {
      "cell_type": "markdown",
      "metadata": {
        "id": "tDVWxUTpptin",
        "colab_type": "text"
      },
      "source": [
        "#### merge the two description column for each company, to make the best possible informative clusters"
      ]
    },
    {
      "cell_type": "code",
      "metadata": {
        "id": "yzpcq5GqzRP_",
        "colab_type": "code",
        "colab": {}
      },
      "source": [
        "#data.head(-5)"
      ],
      "execution_count": 1,
      "outputs": []
    },
    {
      "cell_type": "code",
      "metadata": {
        "id": "pOuBoIh7yln9",
        "colab_type": "code",
        "colab": {}
      },
      "source": [
        "for i in range(len(data)):\n",
        "  if data.loc[i, \"company_description\"] == \"\" or len(data.loc[i, \"company_description\"]) < 10:\n",
        "    data.at[i, \"merged_desc\"] = data.loc[i, \"company_short_description\"]\n",
        "  else:\n",
        "    data.at[i, \"merged_desc\"] = data.loc[i, \"company_description\"]"
      ],
      "execution_count": null,
      "outputs": []
    },
    {
      "cell_type": "code",
      "metadata": {
        "id": "iy3sP74Ypuy4",
        "colab_type": "code",
        "colab": {}
      },
      "source": [
        "#data[\"merged_desc\"] = data[\"company_short_description\"] + \" \" + data[\"company_description\"]"
      ],
      "execution_count": null,
      "outputs": []
    },
    {
      "cell_type": "code",
      "metadata": {
        "id": "6rrd4nIo3uQz",
        "colab_type": "code",
        "colab": {
          "base_uri": "https://localhost:8080/",
          "height": 35
        },
        "outputId": "73b3e6e2-5230-4bd3-e443-fb6b94626d86"
      },
      "source": [
        "string.punctuation"
      ],
      "execution_count": null,
      "outputs": [
        {
          "output_type": "execute_result",
          "data": {
            "application/vnd.google.colaboratory.intrinsic": {
              "type": "string"
            },
            "text/plain": [
              "'!\"#$%&\\'()*+,-./:;<=>?@[\\\\]^_`{|}~'"
            ]
          },
          "metadata": {
            "tags": []
          },
          "execution_count": 11
        }
      ]
    },
    {
      "cell_type": "code",
      "metadata": {
        "id": "nUNaBUtV4jh-",
        "colab_type": "code",
        "colab": {}
      },
      "source": [
        ""
      ],
      "execution_count": null,
      "outputs": []
    },
    {
      "cell_type": "code",
      "metadata": {
        "id": "uhzKcQIOpwZH",
        "colab_type": "code",
        "colab": {
          "base_uri": "https://localhost:8080/",
          "height": 52
        },
        "outputId": "3618c5fb-3669-4ddf-fc78-91355e3b1dd5"
      },
      "source": [
        "from nltk.stem import WordNetLemmatizer\n",
        "nltk.download('wordnet')\n",
        "from nltk.corpus import wordnet\n",
        "lemmatizer = WordNetLemmatizer()\n",
        "\n",
        "# function to convert nltk tag to wordnet tag\n",
        "def nltk_tag_to_wordnet_tag(nltk_tag):\n",
        "    if nltk_tag.startswith('J'):\n",
        "        return wordnet.ADJ\n",
        "    elif nltk_tag.startswith('V'):\n",
        "        return wordnet.VERB\n",
        "    elif nltk_tag.startswith('N'):\n",
        "        return wordnet.NOUN\n",
        "    elif nltk_tag.startswith('R'):\n",
        "        return wordnet.ADV\n",
        "    else:          \n",
        "        return None\n",
        "\n",
        "def lemmatize_sentence(sentence):\n",
        "    #tokenize the sentence and find the POS tag for each token\n",
        "    nltk_tagged = nltk.pos_tag(nltk.word_tokenize(sentence))  \n",
        "    #tuple of (token, wordnet_tag)\n",
        "    wordnet_tagged = map(lambda x: (x[0], nltk_tag_to_wordnet_tag(x[1])), nltk_tagged)\n",
        "    lemmatized_sentence = []\n",
        "    for word, tag in wordnet_tagged:\n",
        "        if tag is None:\n",
        "            #if there is no available tag, append the token as is\n",
        "            lemmatized_sentence.append(word)\n",
        "        else:        \n",
        "            #else use the tag to lemmatize the token\n",
        "            lemmatized_sentence.append(lemmatizer.lemmatize(word, tag))\n",
        "    return \" \".join(lemmatized_sentence)"
      ],
      "execution_count": null,
      "outputs": [
        {
          "output_type": "stream",
          "text": [
            "[nltk_data] Downloading package wordnet to /root/nltk_data...\n",
            "[nltk_data]   Package wordnet is already up-to-date!\n"
          ],
          "name": "stdout"
        }
      ]
    },
    {
      "cell_type": "code",
      "metadata": {
        "id": "SIe0C1dlMC2D",
        "colab_type": "code",
        "colab": {
          "base_uri": "https://localhost:8080/",
          "height": 156
        },
        "outputId": "8084646f-6f90-4528-9b27-8d88e6fab17d"
      },
      "source": [
        "import re\n",
        "nltk.download('stopwords')\n",
        "nltk.download('punkt')\n",
        "nltk.download('averaged_perceptron_tagger')\n",
        "from nltk.corpus import stopwords\n",
        "stop_words = stopwords.words('english')\n",
        "\n",
        "# Create our list of punctuation marks\n",
        "punctuations = string.punctuation\n",
        "                      \n",
        "# Creating our tokenizer function\n",
        "def text_tokenizer(text):\n",
        "    \n",
        "    #Trim upto the last word within 500 character length\n",
        "    maxLength = 500\n",
        "\n",
        "    if len(text) > maxLength:\n",
        "        #trim the string to the maximum length\n",
        "        trimmedString = text[0:maxLength]\n",
        "\n",
        "        #re-trim if we are in the middle of a word\n",
        "        #print(min(len(trimmedString), trimmedString.rindex(\" \")))\n",
        "        text = trimmedString[0 : min(len(trimmedString), trimmedString.rindex(\" \"))]\n",
        "\n",
        "    # encoding the text back to ascii as it contains some invalid characters like â€™, â€“, Â®\n",
        "    text = ftfy.fix_text(text)\n",
        "\n",
        "    # Replace contractions in string of text\n",
        "    text = contractions.fix(text)\n",
        "\n",
        "    # Removing URLs, \"\\n\" and unwanted spaces\n",
        "    text = re.sub(r'https?:\\/\\/\\S*|www.?\\S*|[a-z]*[0-9]*[.]com', ' ', text, flags=re.MULTILINE).strip()\n",
        "    text = re.sub('\\n',' ', text)\n",
        "    text = re.sub('\\s+',' ', text)\n",
        "\n",
        "    # Removing punctuations\n",
        "    table = str.maketrans(' ', ' ', string.punctuation)\n",
        "    mytokens = ' '.join([w.translate(table) for w in text.split()])\n",
        "\n",
        "    # Converting each token into lowercase and extracting only strings \n",
        "    mytokens= ' '.join([word.lower() for word in mytokens.split() if word.isalpha()])\n",
        "    \n",
        "    # Removing stop words\n",
        "    mytokens = ' '.join([ word for word in mytokens.split() if not word in stop_words])\n",
        "    \n",
        "    # # Lemmatize words\n",
        "    lemmatized = lemmatize_sentence(mytokens)\n",
        "\n",
        "    # return preprocessed list of tokens\n",
        "    return lemmatized"
      ],
      "execution_count": null,
      "outputs": [
        {
          "output_type": "stream",
          "text": [
            "[nltk_data] Downloading package stopwords to /root/nltk_data...\n",
            "[nltk_data]   Package stopwords is already up-to-date!\n",
            "[nltk_data] Downloading package punkt to /root/nltk_data...\n",
            "[nltk_data]   Package punkt is already up-to-date!\n",
            "[nltk_data] Downloading package averaged_perceptron_tagger to\n",
            "[nltk_data]     /root/nltk_data...\n",
            "[nltk_data]   Package averaged_perceptron_tagger is already up-to-\n",
            "[nltk_data]       date!\n"
          ],
          "name": "stdout"
        }
      ]
    },
    {
      "cell_type": "code",
      "metadata": {
        "id": "fn0lSyscp2sT",
        "colab_type": "code",
        "colab": {}
      },
      "source": [
        "final_text = []  # transformed list of company descriptions\n",
        "for text in data[\"merged_desc\"]:\n",
        "    final_text.append(text_tokenizer(text))"
      ],
      "execution_count": null,
      "outputs": []
    },
    {
      "cell_type": "code",
      "metadata": {
        "id": "3dX6j5eHsNi_",
        "colab_type": "code",
        "colab": {}
      },
      "source": [
        "#final_text"
      ],
      "execution_count": 2,
      "outputs": []
    },
    {
      "cell_type": "code",
      "metadata": {
        "id": "n8-pdC2kqTn_",
        "colab_type": "code",
        "colab": {}
      },
      "source": [
        "message_embeddings = embed(final_text)\n",
        "\n",
        "for i, message_embedding in enumerate(np.array(message_embeddings).tolist()):\n",
        "  print(\"Message: {}\".format(final_text[i]))\n",
        "  print(\"Embedding size: {}\".format(len(message_embedding)))\n",
        "  message_embedding_snippet = \", \".join(\n",
        "      (str(x) for x in message_embedding[:3]))\n",
        "  print(\"Embedding: [{}, ...]\\n\".format(message_embedding_snippet))\n",
        "  break"
      ],
      "execution_count": 3,
      "outputs": []
    },
    {
      "cell_type": "code",
      "metadata": {
        "id": "xbW4fSyystWd",
        "colab_type": "code",
        "colab": {
          "base_uri": "https://localhost:8080/",
          "height": 260
        },
        "outputId": "5dbb091b-0e5c-43e3-e0cb-c822a2f47407"
      },
      "source": [
        "message_embeddings"
      ],
      "execution_count": null,
      "outputs": [
        {
          "output_type": "execute_result",
          "data": {
            "text/plain": [
              "<tf.Tensor: shape=(19965, 512), dtype=float32, numpy=\n",
              "array([[-0.01509814, -0.04989455,  0.01001029, ...,  0.01598569,\n",
              "        -0.02476936, -0.04051499],\n",
              "       [ 0.04958095, -0.06278804, -0.03077463, ...,  0.01054108,\n",
              "        -0.06399643, -0.06058563],\n",
              "       [-0.06754484, -0.02936127, -0.01983172, ...,  0.00691496,\n",
              "        -0.03042461, -0.03124638],\n",
              "       ...,\n",
              "       [ 0.01501418, -0.06435572,  0.00760609, ...,  0.03242135,\n",
              "        -0.05006365, -0.06279271],\n",
              "       [-0.00789589, -0.06296685, -0.02997911, ...,  0.02949246,\n",
              "        -0.00134951, -0.08760481],\n",
              "       [-0.03284988, -0.04264485,  0.03746532, ...,  0.06243652,\n",
              "        -0.06090641, -0.0210698 ]], dtype=float32)>"
            ]
          },
          "metadata": {
            "tags": []
          },
          "execution_count": 22
        }
      ]
    },
    {
      "cell_type": "code",
      "metadata": {
        "id": "Kiv8CdxOsxbs",
        "colab_type": "code",
        "colab": {}
      },
      "source": [
        "use_embeddings = message_embeddings.numpy()"
      ],
      "execution_count": null,
      "outputs": []
    },
    {
      "cell_type": "markdown",
      "metadata": {
        "id": "XnNA-a3pQKAA",
        "colab_type": "text"
      },
      "source": [
        "### HDBSCAN and UMAP Clustering"
      ]
    },
    {
      "cell_type": "code",
      "metadata": {
        "id": "z1gpvsH1hqzt",
        "colab_type": "code",
        "colab": {
          "base_uri": "https://localhost:8080/",
          "height": 367
        },
        "outputId": "d3130497-06d8-4182-f166-e1c4ac953583"
      },
      "source": [
        "!pip install hdbscan"
      ],
      "execution_count": null,
      "outputs": [
        {
          "output_type": "stream",
          "text": [
            "Collecting hdbscan\n",
            "\u001b[?25l  Downloading https://files.pythonhosted.org/packages/22/2f/2423d844072f007a74214c1adc46260e45f034bb1679ccadfbb8a601f647/hdbscan-0.8.26.tar.gz (4.7MB)\n",
            "\u001b[K     |████████████████████████████████| 4.7MB 3.5MB/s \n",
            "\u001b[?25h  Installing build dependencies ... \u001b[?25l\u001b[?25hdone\n",
            "  Getting requirements to build wheel ... \u001b[?25l\u001b[?25hdone\n",
            "    Preparing wheel metadata ... \u001b[?25l\u001b[?25hdone\n",
            "Requirement already satisfied: six in /usr/local/lib/python3.6/dist-packages (from hdbscan) (1.12.0)\n",
            "Requirement already satisfied: numpy>=1.16.0 in /usr/local/lib/python3.6/dist-packages (from hdbscan) (1.18.5)\n",
            "Requirement already satisfied: joblib in /usr/local/lib/python3.6/dist-packages (from hdbscan) (0.15.1)\n",
            "Requirement already satisfied: scikit-learn>=0.17 in /usr/local/lib/python3.6/dist-packages (from hdbscan) (0.22.2.post1)\n",
            "Requirement already satisfied: scipy>=0.9 in /usr/local/lib/python3.6/dist-packages (from hdbscan) (1.4.1)\n",
            "Requirement already satisfied: cython>=0.27 in /usr/local/lib/python3.6/dist-packages (from hdbscan) (0.29.20)\n",
            "Building wheels for collected packages: hdbscan\n",
            "  Building wheel for hdbscan (PEP 517) ... \u001b[?25l\u001b[?25hdone\n",
            "  Created wheel for hdbscan: filename=hdbscan-0.8.26-cp36-cp36m-linux_x86_64.whl size=2307208 sha256=3d1283ac6cacb5031cd62c5a8dda6ff9b7f006a6f86e6f4cd970580ff5f1974b\n",
            "  Stored in directory: /root/.cache/pip/wheels/82/38/41/372f034d8abd271ef7787a681e0a47fc05d472683a7eb088ed\n",
            "Successfully built hdbscan\n",
            "Installing collected packages: hdbscan\n",
            "Successfully installed hdbscan-0.8.26\n"
          ],
          "name": "stdout"
        }
      ]
    },
    {
      "cell_type": "code",
      "metadata": {
        "id": "3xt6ip7DqTuA",
        "colab_type": "code",
        "colab": {}
      },
      "source": [
        "import umap\n",
        "import hdbscan"
      ],
      "execution_count": null,
      "outputs": []
    },
    {
      "cell_type": "code",
      "metadata": {
        "id": "zBkEF2Lzi53w",
        "colab_type": "code",
        "colab": {
          "base_uri": "https://localhost:8080/",
          "height": 52
        },
        "outputId": "1ec7cc97-a1ea-4fa0-c18f-ca23c4977f57"
      },
      "source": [
        "%%time\n",
        "clusterable_embedding = umap.UMAP(\n",
        "    n_neighbors=30,\n",
        "    min_dist=0.0,\n",
        "    n_components=2,\n",
        "    random_state=42,\n",
        ").fit_transform(use_embeddings)"
      ],
      "execution_count": null,
      "outputs": [
        {
          "output_type": "stream",
          "text": [
            "CPU times: user 1min 3s, sys: 1.61 s, total: 1min 5s\n",
            "Wall time: 1min 4s\n"
          ],
          "name": "stdout"
        }
      ]
    },
    {
      "cell_type": "code",
      "metadata": {
        "id": "1Ym3i7A3i59r",
        "colab_type": "code",
        "colab": {}
      },
      "source": [
        "labels = hdbscan.HDBSCAN(\n",
        "    min_samples=30,\n",
        "    min_cluster_size=200,\n",
        ").fit_predict(clusterable_embedding)"
      ],
      "execution_count": null,
      "outputs": []
    },
    {
      "cell_type": "code",
      "metadata": {
        "id": "bN3dX9Nui56_",
        "colab_type": "code",
        "colab": {
          "base_uri": "https://localhost:8080/",
          "height": 35
        },
        "outputId": "de45d35c-85af-4b55-fd9f-b473844311f3"
      },
      "source": [
        "np.unique(labels)"
      ],
      "execution_count": null,
      "outputs": [
        {
          "output_type": "execute_result",
          "data": {
            "text/plain": [
              "array([-1,  0,  1,  2,  3,  4])"
            ]
          },
          "metadata": {
            "tags": []
          },
          "execution_count": 208
        }
      ]
    },
    {
      "cell_type": "code",
      "metadata": {
        "id": "9XJtpQepi51j",
        "colab_type": "code",
        "colab": {
          "base_uri": "https://localhost:8080/",
          "height": 303
        },
        "outputId": "088116af-bbbd-4886-c645-d7c368058f13"
      },
      "source": [
        "clustered = (labels >= 0)\n",
        "plt.scatter(clusterable_embedding[~clustered, 0],\n",
        "            clusterable_embedding[~clustered, 1],\n",
        "            c=(0.5, 0.5, 0.5),\n",
        "            s=0.1,\n",
        "            alpha=0.5)\n",
        "plt.scatter(clusterable_embedding[clustered, 0],\n",
        "            clusterable_embedding[clustered, 1],\n",
        "            c=labels[clustered],\n",
        "            s=0.1,\n",
        "            cmap='Spectral');"
      ],
      "execution_count": null,
      "outputs": [
        {
          "output_type": "stream",
          "text": [
            "WARNING:matplotlib.axes._axes:*c* argument looks like a single numeric RGB or RGBA sequence, which should be avoided as value-mapping will have precedence in case its length matches with *x* & *y*.  Please use the *color* keyword-argument or provide a 2-D array with a single row if you intend to specify the same RGB or RGBA value for all points.\n"
          ],
          "name": "stderr"
        },
        {
          "output_type": "display_data",
          "data": {
            "image/png": "[encoded data removed]",
            "text/plain": [
              "<Figure size 432x288 with 1 Axes>"
            ]
          },
          "metadata": {
            "tags": [],
            "needs_background": "light"
          }
        }
      ]
    },
    {
      "cell_type": "code",
      "metadata": {
        "id": "xWpQBZNci5zA",
        "colab_type": "code",
        "colab": {
          "base_uri": "https://localhost:8080/",
          "height": 35
        },
        "outputId": "e2c5125e-92f3-45f5-b8d4-3b493aeb9411"
      },
      "source": [
        "np.sum(clustered) / len(use_embeddings)"
      ],
      "execution_count": null,
      "outputs": [
        {
          "output_type": "execute_result",
          "data": {
            "text/plain": [
              "0.9549711995992988"
            ]
          },
          "metadata": {
            "tags": []
          },
          "execution_count": 210
        }
      ]
    },
    {
      "cell_type": "code",
      "metadata": {
        "id": "TDYQMBWclrcD",
        "colab_type": "code",
        "colab": {
          "base_uri": "https://localhost:8080/",
          "height": 35
        },
        "outputId": "618e5793-c680-4b0d-f73f-5dd691b2c87e"
      },
      "source": [
        "len(use_embeddings), np.sum(clustered)"
      ],
      "execution_count": null,
      "outputs": [
        {
          "output_type": "execute_result",
          "data": {
            "text/plain": [
              "(19965, 19556)"
            ]
          },
          "metadata": {
            "tags": []
          },
          "execution_count": 35
        }
      ]
    },
    {
      "cell_type": "code",
      "metadata": {
        "id": "-MjFNHNOlrgH",
        "colab_type": "code",
        "colab": {}
      },
      "source": [
        "final_df = pd.DataFrame({'company_name':data.company_name, 'description': data.merged_desc, 'cluster': labels})\n",
        "# final_df.head()"
      ],
      "execution_count": 4,
      "outputs": []
    },
    {
      "cell_type": "code",
      "metadata": {
        "id": "YGlcnohtlrZH",
        "colab_type": "code",
        "colab": {}
      },
      "source": [
        "final_df.to_csv('Output.csv', index=False)"
      ],
      "execution_count": null,
      "outputs": []
    },
    {
      "cell_type": "markdown",
      "metadata": {
        "id": "MJtiQEzcVEbF",
        "colab_type": "text"
      },
      "source": [
        "### Common functions"
      ]
    },
    {
      "cell_type": "code",
      "metadata": {
        "id": "QbVOypoCQcTb",
        "colab_type": "code",
        "colab": {}
      },
      "source": [
        "def find_k(normalized_doc_embeddings):\n",
        "  wcss = []\n",
        "  start_elbow = 2\n",
        "  end_elbow = 20\n",
        "  for i in range(start_elbow,end_elbow):\n",
        "      kmeans = KMeans(n_clusters=i,init='k-means++', random_state = 42)\n",
        "      kmeans.fit(normalized_doc_embeddings)\n",
        "      wcss.append(kmeans.inertia_)\n",
        "      print(silhouette_score(normalized_doc_embeddings, labels=kmeans.predict(normalized_doc_embeddings)))\n",
        "\n",
        "  plt.plot(range(start_elbow,end_elbow), wcss)\n",
        "  plt.title('The Elbow Method')\n",
        "  plt.xlabel('Number of Clusters')\n",
        "  plt.ylabel('WCSS')\n",
        "  plt.show()"
      ],
      "execution_count": null,
      "outputs": []
    },
    {
      "cell_type": "code",
      "metadata": {
        "id": "pHjiAk5_dX5w",
        "colab_type": "code",
        "colab": {}
      },
      "source": [
        "def export_prediction(input, no_clusters=5):\n",
        "  sentence_clf = KMeans(n_clusters=no_clusters,\n",
        "                      max_iter=100,init='k-means++',\n",
        "                      n_init=1, random_state = 42)\n",
        "  labels = sentence_clf.fit_predict(input)\n",
        "  final_df = pd.DataFrame({'company_name':data.company_name, 'cluster': labels})\n",
        "  final_df.head()\n",
        "  final_df.to_csv(\"output_task_3b.csv\", index=False)"
      ],
      "execution_count": null,
      "outputs": []
    },
    {
      "cell_type": "markdown",
      "metadata": {
        "id": "FEr98-AgH0Qf",
        "colab_type": "text"
      },
      "source": [
        "### PCA on normalized data "
      ]
    },
    {
      "cell_type": "markdown",
      "metadata": {
        "id": "scETRHw_dX5a",
        "colab_type": "text"
      },
      "source": [
        "#### Normalize and transform data using PCA"
      ]
    },
    {
      "cell_type": "code",
      "metadata": {
        "id": "18weQcTxdX5a",
        "colab_type": "code",
        "colab": {}
      },
      "source": [
        "X_norm  = stats.zscore(use_embeddings, axis=0)  # normalize using zscore"
      ],
      "execution_count": null,
      "outputs": []
    },
    {
      "cell_type": "code",
      "metadata": {
        "scrolled": true,
        "id": "LHFWjlT-dX5e",
        "colab_type": "code",
        "colab": {
          "base_uri": "https://localhost:8080/",
          "height": 52
        },
        "outputId": "2a776f67-2d80-4188-ac44-f8e22e1a60c6"
      },
      "source": [
        "pca = PCA()\n",
        "pca.fit(X_norm)"
      ],
      "execution_count": null,
      "outputs": [
        {
          "output_type": "execute_result",
          "data": {
            "text/plain": [
              "PCA(copy=True, iterated_power='auto', n_components=None, random_state=None,\n",
              "    svd_solver='auto', tol=0.0, whiten=False)"
            ]
          },
          "metadata": {
            "tags": []
          },
          "execution_count": 37
        }
      ]
    },
    {
      "cell_type": "markdown",
      "metadata": {
        "id": "Y-GUHue_dX5i",
        "colab_type": "text"
      },
      "source": [
        "#### Finding best value of PCA components"
      ]
    },
    {
      "cell_type": "code",
      "metadata": {
        "id": "ezD4dlkLdX5j",
        "colab_type": "code",
        "colab": {
          "base_uri": "https://localhost:8080/",
          "height": 531
        },
        "outputId": "d6bba349-dfcf-425b-bd15-bcb21009624a"
      },
      "source": [
        "plt.figure(figsize=(15,8))\n",
        "plt.plot(range(1,513), pca.explained_variance_ratio_.cumsum(), marker ='o', linestyle = \"--\", )\n",
        "plt.title(\"Explained Variance by Components\")\n",
        "plt.xlabel(\"No. of Components\")\n",
        "plt.ylabel(\"Cumulative Explained Variance\")"
      ],
      "execution_count": null,
      "outputs": [
        {
          "output_type": "execute_result",
          "data": {
            "text/plain": [
              "Text(0, 0.5, 'Cumulative Explained Variance')"
            ]
          },
          "metadata": {
            "tags": []
          },
          "execution_count": 40
        },
        {
          "output_type": "display_data",
          "data": {
            "image/png": "[encoded data removed]",
            "text/plain": [
              "<Figure size 1080x576 with 1 Axes>"
            ]
          },
          "metadata": {
            "tags": [],
            "needs_background": "light"
          }
        }
      ]
    },
    {
      "cell_type": "code",
      "metadata": {
        "id": "0WHhDsaKdX5l",
        "colab_type": "code",
        "colab": {}
      },
      "source": [
        "#reducing to 20 components as depicted from above figure while keeping 90% of info"
      ],
      "execution_count": null,
      "outputs": []
    },
    {
      "cell_type": "code",
      "metadata": {
        "id": "_mo2iEyrdX5o",
        "colab_type": "code",
        "colab": {}
      },
      "source": [
        "pca = PCA(n_components=200)\n",
        "X_pca = pca.fit_transform(X_norm)"
      ],
      "execution_count": null,
      "outputs": []
    },
    {
      "cell_type": "markdown",
      "metadata": {
        "id": "aoX2ob9DO-Ss",
        "colab_type": "text"
      },
      "source": [
        "### t-SNE and Clustering"
      ]
    },
    {
      "cell_type": "markdown",
      "metadata": {
        "id": "wZc6zFDSR59l",
        "colab_type": "text"
      },
      "source": [
        "#### Creating t-SNE object "
      ]
    },
    {
      "cell_type": "code",
      "metadata": {
        "id": "8ptRWaKwdX5P",
        "colab_type": "code",
        "colab": {
          "base_uri": "https://localhost:8080/",
          "height": 107
        },
        "outputId": "fba42389-0032-4fb9-e1ac-1a937096d85d"
      },
      "source": [
        "!pip install MulticoreTSNE"
      ],
      "execution_count": null,
      "outputs": [
        {
          "output_type": "stream",
          "text": [
            "Requirement already satisfied: MulticoreTSNE in /usr/local/lib/python3.6/dist-packages (0.1)\n",
            "Requirement already satisfied: numpy in /usr/local/lib/python3.6/dist-packages (from MulticoreTSNE) (1.18.5)\n",
            "Requirement already satisfied: cffi in /usr/local/lib/python3.6/dist-packages (from MulticoreTSNE) (1.14.0)\n",
            "Requirement already satisfied: pycparser in /usr/local/lib/python3.6/dist-packages (from cffi->MulticoreTSNE) (2.20)\n"
          ],
          "name": "stdout"
        }
      ]
    },
    {
      "cell_type": "code",
      "metadata": {
        "id": "nBuA3Hq4dX5S",
        "colab_type": "code",
        "colab": {}
      },
      "source": [
        "from MulticoreTSNE import MulticoreTSNE as TSNE\n",
        "import seaborn as sns\n",
        "tsne = TSNE(n_components=2, random_state=0)"
      ],
      "execution_count": null,
      "outputs": []
    },
    {
      "cell_type": "code",
      "metadata": {
        "id": "8SceOFujdX5U",
        "colab_type": "code",
        "colab": {}
      },
      "source": [
        "tsne_obj = tsne.fit_transform(X_pca)"
      ],
      "execution_count": null,
      "outputs": []
    },
    {
      "cell_type": "markdown",
      "metadata": {
        "id": "zWOdRmOfRtyb",
        "colab_type": "text"
      },
      "source": [
        "#### t-SNE with KMeans"
      ]
    },
    {
      "cell_type": "code",
      "metadata": {
        "id": "_43U9BXTdX5X",
        "colab_type": "code",
        "colab": {
          "base_uri": "https://localhost:8080/",
          "height": 607
        },
        "outputId": "62c80c04-f1ae-4437-bea4-0d02af2a0a77"
      },
      "source": [
        "find_k(tsne_obj)"
      ],
      "execution_count": null,
      "outputs": [
        {
          "output_type": "stream",
          "text": [
            "0.41244593591434275\n",
            "0.40894235919310007\n",
            "0.39146367642752794\n",
            "0.3637497632893426\n",
            "0.3695845034240872\n",
            "0.3654119801750848\n",
            "0.3612609896311166\n",
            "0.3647165100775767\n",
            "0.36295532186604174\n",
            "0.35965502406778715\n",
            "0.34929564730788587\n",
            "0.35237745160627987\n",
            "0.3481584892602221\n",
            "0.3451068669834822\n",
            "0.3478270463539925\n",
            "0.3503574480921724\n",
            "0.3485325872504799\n",
            "0.3475652026124374\n"
          ],
          "name": "stdout"
        },
        {
          "output_type": "display_data",
          "data": {
            "image/png": "[encoded data removed]",
            "text/plain": [
              "<Figure size 432x288 with 1 Axes>"
            ]
          },
          "metadata": {
            "tags": [],
            "needs_background": "light"
          }
        }
      ]
    },
    {
      "cell_type": "code",
      "metadata": {
        "id": "b959DQZeQzLX",
        "colab_type": "code",
        "colab": {}
      },
      "source": [
        ""
      ],
      "execution_count": null,
      "outputs": []
    },
    {
      "cell_type": "markdown",
      "metadata": {
        "id": "xAYisf2rPbyR",
        "colab_type": "text"
      },
      "source": [
        "### UMAP and K-Means clustering post PCA"
      ]
    },
    {
      "cell_type": "code",
      "metadata": {
        "id": "YUJrSWkuP2cq",
        "colab_type": "code",
        "colab": {}
      },
      "source": [
        "import umap.umap_ as umap"
      ],
      "execution_count": null,
      "outputs": []
    },
    {
      "cell_type": "code",
      "metadata": {
        "id": "uhZX48xFP2ZM",
        "colab_type": "code",
        "colab": {}
      },
      "source": [
        "#!pip install umap"
      ],
      "execution_count": null,
      "outputs": []
    },
    {
      "cell_type": "code",
      "metadata": {
        "id": "TM6T1y4CPbJJ",
        "colab_type": "code",
        "colab": {
          "base_uri": "https://localhost:8080/",
          "height": 52
        },
        "outputId": "45e28aaf-dd67-4d22-a0c1-0e98bd4abb18"
      },
      "source": [
        "%%time\n",
        "clusterable_embedding = umap.UMAP(\n",
        "    n_neighbors=30,\n",
        "    min_dist=0.0,\n",
        "    n_components=2,\n",
        "    random_state=42,\n",
        ").fit_transform(X_pca)"
      ],
      "execution_count": null,
      "outputs": [
        {
          "output_type": "stream",
          "text": [
            "CPU times: user 48 s, sys: 1.25 s, total: 49.3 s\n",
            "Wall time: 48.5 s\n"
          ],
          "name": "stdout"
        }
      ]
    },
    {
      "cell_type": "code",
      "metadata": {
        "id": "M79pstMXY3l-",
        "colab_type": "code",
        "colab": {
          "base_uri": "https://localhost:8080/",
          "height": 642
        },
        "outputId": "b5df9051-ee40-4b12-a562-e332fcd3074b"
      },
      "source": [
        "%%time\n",
        "find_k(clusterable_embedding)"
      ],
      "execution_count": null,
      "outputs": [
        {
          "output_type": "stream",
          "text": [
            "0.4788369\n",
            "0.43610492\n",
            "0.44127893\n",
            "0.4156877\n",
            "0.42072254\n",
            "0.42553678\n",
            "0.4148531\n",
            "0.40115848\n",
            "0.40212977\n",
            "0.41086707\n",
            "0.43320888\n",
            "0.42508668\n",
            "0.4209003\n",
            "0.42783177\n",
            "0.42515436\n",
            "0.41502678\n",
            "0.4179271\n",
            "0.42100513\n"
          ],
          "name": "stdout"
        },
        {
          "output_type": "display_data",
          "data": {
            "image/png": "[encoded data removed]",
            "text/plain": [
              "<Figure size 432x288 with 1 Axes>"
            ]
          },
          "metadata": {
            "tags": [],
            "needs_background": "light"
          }
        },
        {
          "output_type": "stream",
          "text": [
            "CPU times: user 2min 19s, sys: 47.6 s, total: 3min 7s\n",
            "Wall time: 2min\n"
          ],
          "name": "stdout"
        }
      ]
    }
  ]
}