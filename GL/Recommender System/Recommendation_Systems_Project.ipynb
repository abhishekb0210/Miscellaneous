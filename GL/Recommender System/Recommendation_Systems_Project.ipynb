{
  "nbformat": 4,
  "nbformat_minor": 0,
  "metadata": {
    "colab": {
      "name": "Recommendation Systems-Project.ipynb",
      "version": "0.3.2",
      "provenance": [],
      "collapsed_sections": [
        "N_fL7nsu4Xmd"
      ]
    },
    "language_info": {
      "codemirror_mode": {
        "name": "ipython",
        "version": 3
      },
      "file_extension": ".py",
      "mimetype": "text/x-python",
      "name": "python",
      "nbconvert_exporter": "python",
      "pygments_lexer": "ipython3",
      "version": "3.6.5"
    },
    "kernelspec": {
      "display_name": "Python 3",
      "language": "python",
      "name": "python3"
    }
  },
  "cells": [
    {
      "cell_type": "markdown",
      "metadata": {
        "id": "XeZoyY4S4XlD",
        "colab_type": "text"
      },
      "source": [
        "# Recommendation Systems | Project"
      ]
    },
    {
      "cell_type": "markdown",
      "metadata": {
        "id": "ZvH9p8i74XlF",
        "colab_type": "text"
      },
      "source": [
        "### 1. Read and explore the given dataset.  ( Rename column/add headers, plot histograms, find data characteristics)"
      ]
    },
    {
      "cell_type": "code",
      "metadata": {
        "scrolled": true,
        "id": "hOaOzPDb4XlG",
        "colab_type": "code",
        "outputId": "94ce2a55-9cf3-4e65-d245-7c2a60c4481d",
        "colab": {
          "base_uri": "https://localhost:8080/",
          "height": 713
        }
      },
      "source": [
        "!pip install turicreate\n",
        "from platform import python_version\n",
        "print(python_version())"
      ],
      "execution_count": 1,
      "outputs": [
        {
          "output_type": "stream",
          "text": [
            "Collecting turicreate\n",
            "\u001b[?25l  Downloading https://files.pythonhosted.org/packages/9b/b0/148c2fed2b2a4e151d3726061ec305b028a7ab59bdb1aa93dd950419df6e/turicreate-5.6-cp36-cp36m-manylinux1_x86_64.whl (86.1MB)\n",
            "\u001b[K     |████████████████████████████████| 86.1MB 1.3MB/s \n",
            "\u001b[?25hRequirement already satisfied: decorator>=4.0.9 in /usr/local/lib/python3.6/dist-packages (from turicreate) (4.4.0)\n",
            "Collecting coremltools==2.1.0 (from turicreate)\n",
            "\u001b[?25l  Downloading https://files.pythonhosted.org/packages/b9/9d/7ec5a2480c6afce4fcb99de1650b7abfd1457b2ef1de5ce39bf7bee8a8ae/coremltools-2.1.0-cp36-none-manylinux1_x86_64.whl (2.7MB)\n",
            "\u001b[K     |████████████████████████████████| 2.7MB 37.9MB/s \n",
            "\u001b[?25hRequirement already satisfied: pandas>=0.19.0 in /usr/local/lib/python3.6/dist-packages (from turicreate) (0.24.2)\n",
            "Requirement already satisfied: scipy>=0.14.0 in /usr/local/lib/python3.6/dist-packages (from turicreate) (1.3.0)\n",
            "Requirement already satisfied: six>=1.10.0 in /usr/local/lib/python3.6/dist-packages (from turicreate) (1.12.0)\n",
            "Requirement already satisfied: requests>=2.9.1 in /usr/local/lib/python3.6/dist-packages (from turicreate) (2.21.0)\n",
            "Requirement already satisfied: pillow>=3.3.0 in /usr/local/lib/python3.6/dist-packages (from turicreate) (4.3.0)\n",
            "Requirement already satisfied: resampy==0.2.1 in /usr/local/lib/python3.6/dist-packages (from turicreate) (0.2.1)\n",
            "Requirement already satisfied: prettytable==0.7.2 in /usr/local/lib/python3.6/dist-packages (from turicreate) (0.7.2)\n",
            "Collecting mxnet<1.2.0,>=1.1.0 (from turicreate)\n",
            "\u001b[?25l  Downloading https://files.pythonhosted.org/packages/96/98/c9877e100c3d1ac92263bfaba7bb8a49294e099046592040a2ff8620ac61/mxnet-1.1.0.post0-py2.py3-none-manylinux1_x86_64.whl (23.8MB)\n",
            "\u001b[K     |████████████████████████████████| 23.8MB 1.3MB/s \n",
            "\u001b[?25hRequirement already satisfied: numpy in /usr/local/lib/python3.6/dist-packages (from turicreate) (1.16.4)\n",
            "Requirement already satisfied: protobuf>=3.1.0 in /usr/local/lib/python3.6/dist-packages (from coremltools==2.1.0->turicreate) (3.7.1)\n",
            "Requirement already satisfied: python-dateutil>=2.5.0 in /usr/local/lib/python3.6/dist-packages (from pandas>=0.19.0->turicreate) (2.5.3)\n",
            "Requirement already satisfied: pytz>=2011k in /usr/local/lib/python3.6/dist-packages (from pandas>=0.19.0->turicreate) (2018.9)\n",
            "Requirement already satisfied: certifi>=2017.4.17 in /usr/local/lib/python3.6/dist-packages (from requests>=2.9.1->turicreate) (2019.6.16)\n",
            "Requirement already satisfied: urllib3<1.25,>=1.21.1 in /usr/local/lib/python3.6/dist-packages (from requests>=2.9.1->turicreate) (1.24.3)\n",
            "Requirement already satisfied: idna<2.9,>=2.5 in /usr/local/lib/python3.6/dist-packages (from requests>=2.9.1->turicreate) (2.8)\n",
            "Requirement already satisfied: chardet<3.1.0,>=3.0.2 in /usr/local/lib/python3.6/dist-packages (from requests>=2.9.1->turicreate) (3.0.4)\n",
            "Requirement already satisfied: olefile in /usr/local/lib/python3.6/dist-packages (from pillow>=3.3.0->turicreate) (0.46)\n",
            "Requirement already satisfied: numba>=0.32 in /usr/local/lib/python3.6/dist-packages (from resampy==0.2.1->turicreate) (0.40.1)\n",
            "Collecting graphviz<0.9.0,>=0.8.1 (from mxnet<1.2.0,>=1.1.0->turicreate)\n",
            "  Downloading https://files.pythonhosted.org/packages/53/39/4ab213673844e0c004bed8a0781a0721a3f6bb23eb8854ee75c236428892/graphviz-0.8.4-py2.py3-none-any.whl\n",
            "Requirement already satisfied: setuptools in /usr/local/lib/python3.6/dist-packages (from protobuf>=3.1.0->coremltools==2.1.0->turicreate) (41.0.1)\n",
            "Requirement already satisfied: llvmlite>=0.25.0dev0 in /usr/local/lib/python3.6/dist-packages (from numba>=0.32->resampy==0.2.1->turicreate) (0.29.0)\n",
            "\u001b[31mERROR: mxnet 1.1.0.post0 has requirement numpy<1.15.0,>=1.8.2, but you'll have numpy 1.16.4 which is incompatible.\u001b[0m\n",
            "\u001b[31mERROR: mxnet 1.1.0.post0 has requirement requests<2.19.0,>=2.18.4, but you'll have requests 2.21.0 which is incompatible.\u001b[0m\n",
            "Installing collected packages: coremltools, graphviz, mxnet, turicreate\n",
            "  Found existing installation: graphviz 0.10.1\n",
            "    Uninstalling graphviz-0.10.1:\n",
            "      Successfully uninstalled graphviz-0.10.1\n",
            "Successfully installed coremltools-2.1.0 graphviz-0.8.4 mxnet-1.1.0.post0 turicreate-5.6\n",
            "3.6.8\n"
          ],
          "name": "stdout"
        }
      ]
    },
    {
      "cell_type": "code",
      "metadata": {
        "id": "X74T3we44XlM",
        "colab_type": "code",
        "colab": {}
      },
      "source": [
        "import pandas as pd\n",
        "from sklearn.model_selection import train_test_split\n",
        "import turicreate as turicreate"
      ],
      "execution_count": 0,
      "outputs": []
    },
    {
      "cell_type": "code",
      "metadata": {
        "id": "e2Vuv0HD4XlQ",
        "colab_type": "code",
        "outputId": "e3041381-f1aa-44ff-d795-949d6ed3e975",
        "colab": {
          "base_uri": "https://localhost:8080/",
          "height": 35
        }
      },
      "source": [
        "#ratings_df= pd.read_csv('/ratings_Electronics.csv',header= None)\n",
        "from google.colab import drive\n",
        "drive.mount('/content/drive')"
      ],
      "execution_count": 3,
      "outputs": [
        {
          "output_type": "stream",
          "text": [
            "Drive already mounted at /content/drive; to attempt to forcibly remount, call drive.mount(\"/content/drive\", force_remount=True).\n"
          ],
          "name": "stdout"
        }
      ]
    },
    {
      "cell_type": "code",
      "metadata": {
        "id": "JqleGGOj-yLc",
        "colab_type": "code",
        "colab": {}
      },
      "source": [
        "ratings_df= pd.read_csv('/content/drive/My Drive/Colab Notebooks/ratings_Electronics.csv',header= None)"
      ],
      "execution_count": 0,
      "outputs": []
    },
    {
      "cell_type": "code",
      "metadata": {
        "id": "O7P2yfaT4XlT",
        "colab_type": "code",
        "outputId": "606e7a76-0ec3-40e2-9ac5-9450f308dd6f",
        "colab": {
          "base_uri": "https://localhost:8080/",
          "height": 202
        }
      },
      "source": [
        "ratings_df.head()"
      ],
      "execution_count": 5,
      "outputs": [
        {
          "output_type": "execute_result",
          "data": {
            "text/html": [
              "<div>\n",
              "<style scoped>\n",
              "    .dataframe tbody tr th:only-of-type {\n",
              "        vertical-align: middle;\n",
              "    }\n",
              "\n",
              "    .dataframe tbody tr th {\n",
              "        vertical-align: top;\n",
              "    }\n",
              "\n",
              "    .dataframe thead th {\n",
              "        text-align: right;\n",
              "    }\n",
              "</style>\n",
              "<table border=\"1\" class=\"dataframe\">\n",
              "  <thead>\n",
              "    <tr style=\"text-align: right;\">\n",
              "      <th></th>\n",
              "      <th>0</th>\n",
              "      <th>1</th>\n",
              "      <th>2</th>\n",
              "      <th>3</th>\n",
              "    </tr>\n",
              "  </thead>\n",
              "  <tbody>\n",
              "    <tr>\n",
              "      <th>0</th>\n",
              "      <td>AKM1MP6P0OYPR</td>\n",
              "      <td>0132793040</td>\n",
              "      <td>5.0</td>\n",
              "      <td>1365811200</td>\n",
              "    </tr>\n",
              "    <tr>\n",
              "      <th>1</th>\n",
              "      <td>A2CX7LUOHB2NDG</td>\n",
              "      <td>0321732944</td>\n",
              "      <td>5.0</td>\n",
              "      <td>1341100800</td>\n",
              "    </tr>\n",
              "    <tr>\n",
              "      <th>2</th>\n",
              "      <td>A2NWSAGRHCP8N5</td>\n",
              "      <td>0439886341</td>\n",
              "      <td>1.0</td>\n",
              "      <td>1367193600</td>\n",
              "    </tr>\n",
              "    <tr>\n",
              "      <th>3</th>\n",
              "      <td>A2WNBOD3WNDNKT</td>\n",
              "      <td>0439886341</td>\n",
              "      <td>3.0</td>\n",
              "      <td>1374451200</td>\n",
              "    </tr>\n",
              "    <tr>\n",
              "      <th>4</th>\n",
              "      <td>A1GI0U4ZRJA8WN</td>\n",
              "      <td>0439886341</td>\n",
              "      <td>1.0</td>\n",
              "      <td>1334707200</td>\n",
              "    </tr>\n",
              "  </tbody>\n",
              "</table>\n",
              "</div>"
            ],
            "text/plain": [
              "                0           1    2           3\n",
              "0   AKM1MP6P0OYPR  0132793040  5.0  1365811200\n",
              "1  A2CX7LUOHB2NDG  0321732944  5.0  1341100800\n",
              "2  A2NWSAGRHCP8N5  0439886341  1.0  1367193600\n",
              "3  A2WNBOD3WNDNKT  0439886341  3.0  1374451200\n",
              "4  A1GI0U4ZRJA8WN  0439886341  1.0  1334707200"
            ]
          },
          "metadata": {
            "tags": []
          },
          "execution_count": 5
        }
      ]
    },
    {
      "cell_type": "code",
      "metadata": {
        "id": "SQXi8af14XlZ",
        "colab_type": "code",
        "colab": {}
      },
      "source": [
        "ratings_df.columns = ['userId', 'productId', 'ratings','timestamp']"
      ],
      "execution_count": 0,
      "outputs": []
    },
    {
      "cell_type": "code",
      "metadata": {
        "id": "iqMjzXbK4Xld",
        "colab_type": "code",
        "outputId": "5e52c56d-a13c-45e7-e153-385497eaa01d",
        "colab": {
          "base_uri": "https://localhost:8080/",
          "height": 202
        }
      },
      "source": [
        "ratings_df.head()"
      ],
      "execution_count": 7,
      "outputs": [
        {
          "output_type": "execute_result",
          "data": {
            "text/html": [
              "<div>\n",
              "<style scoped>\n",
              "    .dataframe tbody tr th:only-of-type {\n",
              "        vertical-align: middle;\n",
              "    }\n",
              "\n",
              "    .dataframe tbody tr th {\n",
              "        vertical-align: top;\n",
              "    }\n",
              "\n",
              "    .dataframe thead th {\n",
              "        text-align: right;\n",
              "    }\n",
              "</style>\n",
              "<table border=\"1\" class=\"dataframe\">\n",
              "  <thead>\n",
              "    <tr style=\"text-align: right;\">\n",
              "      <th></th>\n",
              "      <th>userId</th>\n",
              "      <th>productId</th>\n",
              "      <th>ratings</th>\n",
              "      <th>timestamp</th>\n",
              "    </tr>\n",
              "  </thead>\n",
              "  <tbody>\n",
              "    <tr>\n",
              "      <th>0</th>\n",
              "      <td>AKM1MP6P0OYPR</td>\n",
              "      <td>0132793040</td>\n",
              "      <td>5.0</td>\n",
              "      <td>1365811200</td>\n",
              "    </tr>\n",
              "    <tr>\n",
              "      <th>1</th>\n",
              "      <td>A2CX7LUOHB2NDG</td>\n",
              "      <td>0321732944</td>\n",
              "      <td>5.0</td>\n",
              "      <td>1341100800</td>\n",
              "    </tr>\n",
              "    <tr>\n",
              "      <th>2</th>\n",
              "      <td>A2NWSAGRHCP8N5</td>\n",
              "      <td>0439886341</td>\n",
              "      <td>1.0</td>\n",
              "      <td>1367193600</td>\n",
              "    </tr>\n",
              "    <tr>\n",
              "      <th>3</th>\n",
              "      <td>A2WNBOD3WNDNKT</td>\n",
              "      <td>0439886341</td>\n",
              "      <td>3.0</td>\n",
              "      <td>1374451200</td>\n",
              "    </tr>\n",
              "    <tr>\n",
              "      <th>4</th>\n",
              "      <td>A1GI0U4ZRJA8WN</td>\n",
              "      <td>0439886341</td>\n",
              "      <td>1.0</td>\n",
              "      <td>1334707200</td>\n",
              "    </tr>\n",
              "  </tbody>\n",
              "</table>\n",
              "</div>"
            ],
            "text/plain": [
              "           userId   productId  ratings   timestamp\n",
              "0   AKM1MP6P0OYPR  0132793040      5.0  1365811200\n",
              "1  A2CX7LUOHB2NDG  0321732944      5.0  1341100800\n",
              "2  A2NWSAGRHCP8N5  0439886341      1.0  1367193600\n",
              "3  A2WNBOD3WNDNKT  0439886341      3.0  1374451200\n",
              "4  A1GI0U4ZRJA8WN  0439886341      1.0  1334707200"
            ]
          },
          "metadata": {
            "tags": []
          },
          "execution_count": 7
        }
      ]
    },
    {
      "cell_type": "code",
      "metadata": {
        "id": "rBHPWNDa4Xlh",
        "colab_type": "code",
        "outputId": "4b48dfb6-cc61-4712-9c02-0b5e7f04436e",
        "colab": {
          "base_uri": "https://localhost:8080/",
          "height": 173
        }
      },
      "source": [
        "ratings_df.info()"
      ],
      "execution_count": 8,
      "outputs": [
        {
          "output_type": "stream",
          "text": [
            "<class 'pandas.core.frame.DataFrame'>\n",
            "RangeIndex: 7824482 entries, 0 to 7824481\n",
            "Data columns (total 4 columns):\n",
            "userId       object\n",
            "productId    object\n",
            "ratings      float64\n",
            "timestamp    int64\n",
            "dtypes: float64(1), int64(1), object(2)\n",
            "memory usage: 238.8+ MB\n"
          ],
          "name": "stdout"
        }
      ]
    },
    {
      "cell_type": "code",
      "metadata": {
        "id": "LMwElwb14Xlm",
        "colab_type": "code",
        "outputId": "9b150465-9afd-44c4-8d04-d5abaed522ff",
        "colab": {
          "base_uri": "https://localhost:8080/",
          "height": 35
        }
      },
      "source": [
        "# The following code loops through each column and checks if the column type is object then converts those columns\n",
        "# into categorical with each distinct value becoming a category or code.\n",
        "\n",
        "for feature in ratings_df.columns: # Loop through all columns in the dataframe\n",
        "    if ratings_df[feature].dtype == 'object': # Only apply for columns with categorical strings\n",
        "        ratings_df[feature] = pd.Categorical(ratings_df[feature]).codes # Replace strings with an integer\n",
        "print(ratings_df.shape)"
      ],
      "execution_count": 9,
      "outputs": [
        {
          "output_type": "stream",
          "text": [
            "(7824482, 4)\n"
          ],
          "name": "stdout"
        }
      ]
    },
    {
      "cell_type": "code",
      "metadata": {
        "id": "azj7yjHA4Xlr",
        "colab_type": "code",
        "outputId": "25636fdb-7407-410b-dab7-449fb2488d88",
        "colab": {
          "base_uri": "https://localhost:8080/",
          "height": 173
        }
      },
      "source": [
        "ratings_df.info()"
      ],
      "execution_count": 10,
      "outputs": [
        {
          "output_type": "stream",
          "text": [
            "<class 'pandas.core.frame.DataFrame'>\n",
            "RangeIndex: 7824482 entries, 0 to 7824481\n",
            "Data columns (total 4 columns):\n",
            "userId       int32\n",
            "productId    int32\n",
            "ratings      float64\n",
            "timestamp    int64\n",
            "dtypes: float64(1), int32(2), int64(1)\n",
            "memory usage: 179.1 MB\n"
          ],
          "name": "stdout"
        }
      ]
    },
    {
      "cell_type": "code",
      "metadata": {
        "id": "2l2yQTvG4Xlv",
        "colab_type": "code",
        "outputId": "f96e58da-2632-4e31-ecb0-fa9f8ec35d15",
        "colab": {
          "base_uri": "https://localhost:8080/",
          "height": 121
        }
      },
      "source": [
        "ratings_df.ratings.value_counts()"
      ],
      "execution_count": 11,
      "outputs": [
        {
          "output_type": "execute_result",
          "data": {
            "text/plain": [
              "5.0    4347541\n",
              "4.0    1485781\n",
              "1.0     901765\n",
              "3.0     633073\n",
              "2.0     456322\n",
              "Name: ratings, dtype: int64"
            ]
          },
          "metadata": {
            "tags": []
          },
          "execution_count": 11
        }
      ]
    },
    {
      "cell_type": "code",
      "metadata": {
        "id": "YNNOPSoJ4Xlz",
        "colab_type": "code",
        "outputId": "680bc988-ab0d-47a5-c10a-8dc865234814",
        "colab": {
          "base_uri": "https://localhost:8080/",
          "height": 316
        }
      },
      "source": [
        "ratings_df.hist(column = 'ratings', bins= 5, grid=False,)\n",
        "# As we can see from the histogram majority of "
      ],
      "execution_count": 12,
      "outputs": [
        {
          "output_type": "execute_result",
          "data": {
            "text/plain": [
              "array([[<matplotlib.axes._subplots.AxesSubplot object at 0x7fe6804462b0>]],\n",
              "      dtype=object)"
            ]
          },
          "metadata": {
            "tags": []
          },
          "execution_count": 12
        },
        {
          "output_type": "display_data",
          "data": {
            "image/png": "[encoded data removed]",
            "text/plain": [
              "<Figure size 432x288 with 1 Axes>"
            ]
          },
          "metadata": {
            "tags": []
          }
        }
      ]
    },
    {
      "cell_type": "markdown",
      "metadata": {
        "id": "jWv0WRgJ4Xl3",
        "colab_type": "text"
      },
      "source": [
        "### 2. Take a subset of the dataset to make it less sparse/ denser. ( For example, keep the users only who has given 50 or more number of ratings )"
      ]
    },
    {
      "cell_type": "code",
      "metadata": {
        "id": "NjKDSwzC4Xl4",
        "colab_type": "code",
        "colab": {}
      },
      "source": [
        "user_counts = ratings_df['userId'].value_counts()\n",
        "user_list = user_counts[user_counts > 50].index.tolist()\n",
        "ratings_filter_df = ratings_df[ratings_df['userId'].isin(user_list)]"
      ],
      "execution_count": 0,
      "outputs": []
    },
    {
      "cell_type": "code",
      "metadata": {
        "id": "o_QvP9FY4Xl6",
        "colab_type": "code",
        "outputId": "903fb1c5-3ec4-45aa-c4ad-734e44e10fb7",
        "colab": {
          "base_uri": "https://localhost:8080/",
          "height": 202
        }
      },
      "source": [
        "ratings_filter_df.head()"
      ],
      "execution_count": 14,
      "outputs": [
        {
          "output_type": "execute_result",
          "data": {
            "text/html": [
              "<div>\n",
              "<style scoped>\n",
              "    .dataframe tbody tr th:only-of-type {\n",
              "        vertical-align: middle;\n",
              "    }\n",
              "\n",
              "    .dataframe tbody tr th {\n",
              "        vertical-align: top;\n",
              "    }\n",
              "\n",
              "    .dataframe thead th {\n",
              "        text-align: right;\n",
              "    }\n",
              "</style>\n",
              "<table border=\"1\" class=\"dataframe\">\n",
              "  <thead>\n",
              "    <tr style=\"text-align: right;\">\n",
              "      <th></th>\n",
              "      <th>userId</th>\n",
              "      <th>productId</th>\n",
              "      <th>ratings</th>\n",
              "      <th>timestamp</th>\n",
              "    </tr>\n",
              "  </thead>\n",
              "  <tbody>\n",
              "    <tr>\n",
              "      <th>118</th>\n",
              "      <td>3986913</td>\n",
              "      <td>21</td>\n",
              "      <td>3.0</td>\n",
              "      <td>1377907200</td>\n",
              "    </tr>\n",
              "    <tr>\n",
              "      <th>177</th>\n",
              "      <td>2298973</td>\n",
              "      <td>36</td>\n",
              "      <td>1.0</td>\n",
              "      <td>1319673600</td>\n",
              "    </tr>\n",
              "    <tr>\n",
              "      <th>178</th>\n",
              "      <td>234834</td>\n",
              "      <td>36</td>\n",
              "      <td>4.0</td>\n",
              "      <td>1281744000</td>\n",
              "    </tr>\n",
              "    <tr>\n",
              "      <th>492</th>\n",
              "      <td>2610792</td>\n",
              "      <td>38</td>\n",
              "      <td>5.0</td>\n",
              "      <td>1373587200</td>\n",
              "    </tr>\n",
              "    <tr>\n",
              "      <th>631</th>\n",
              "      <td>3124240</td>\n",
              "      <td>38</td>\n",
              "      <td>5.0</td>\n",
              "      <td>1353456000</td>\n",
              "    </tr>\n",
              "  </tbody>\n",
              "</table>\n",
              "</div>"
            ],
            "text/plain": [
              "      userId  productId  ratings   timestamp\n",
              "118  3986913         21      3.0  1377907200\n",
              "177  2298973         36      1.0  1319673600\n",
              "178   234834         36      4.0  1281744000\n",
              "492  2610792         38      5.0  1373587200\n",
              "631  3124240         38      5.0  1353456000"
            ]
          },
          "metadata": {
            "tags": []
          },
          "execution_count": 14
        }
      ]
    },
    {
      "cell_type": "code",
      "metadata": {
        "id": "1p6NK49z4Xl-",
        "colab_type": "code",
        "outputId": "ee62fc9c-d9d4-4601-ffa7-4bba285c6d14",
        "colab": {
          "base_uri": "https://localhost:8080/",
          "height": 104
        }
      },
      "source": [
        "ratings_filter_df.drop(columns='timestamp',axis=1, inplace=True)"
      ],
      "execution_count": 15,
      "outputs": [
        {
          "output_type": "stream",
          "text": [
            "/usr/local/lib/python3.6/dist-packages/pandas/core/frame.py:3940: SettingWithCopyWarning: \n",
            "A value is trying to be set on a copy of a slice from a DataFrame\n",
            "\n",
            "See the caveats in the documentation: http://pandas.pydata.org/pandas-docs/stable/indexing.html#indexing-view-versus-copy\n",
            "  errors=errors)\n"
          ],
          "name": "stderr"
        }
      ]
    },
    {
      "cell_type": "code",
      "metadata": {
        "id": "ItBCpqq-4XmC",
        "colab_type": "code",
        "outputId": "a1299edb-3669-4150-9aaa-04a495c659cc",
        "colab": {
          "base_uri": "https://localhost:8080/",
          "height": 1000
        }
      },
      "source": [
        "ratings_filter_df.userId.value_counts().sort_values(ascending =False)"
      ],
      "execution_count": 16,
      "outputs": [
        {
          "output_type": "execute_result",
          "data": {
            "text/plain": [
              "3263531    520\n",
              "3512451    501\n",
              "2989526    498\n",
              "3291008    431\n",
              "3284634    406\n",
              "755206     380\n",
              "2424036    314\n",
              "1451394    311\n",
              "4100926    308\n",
              "3935038    296\n",
              "1277963    296\n",
              "1186114    292\n",
              "2492518    282\n",
              "2682865    282\n",
              "2883459    279\n",
              "1843984    277\n",
              "1220074    270\n",
              "3003145    266\n",
              "229970     261\n",
              "2560612    257\n",
              "2153482    253\n",
              "77779      252\n",
              "1207517    252\n",
              "950704     247\n",
              "3613568    244\n",
              "1116329    240\n",
              "3541102    239\n",
              "1852294    238\n",
              "2534992    236\n",
              "2058418    227\n",
              "          ... \n",
              "84384       51\n",
              "4154427     51\n",
              "75142       51\n",
              "2215078     51\n",
              "947587      51\n",
              "1037652     51\n",
              "330073      51\n",
              "2545231     51\n",
              "2255890     51\n",
              "3484456     51\n",
              "2965656     51\n",
              "2153387     51\n",
              "1491259     51\n",
              "951118      51\n",
              "2997068     51\n",
              "3034188     51\n",
              "371609      51\n",
              "2544761     51\n",
              "2906392     51\n",
              "270420      51\n",
              "1773976     51\n",
              "2107708     51\n",
              "3253279     51\n",
              "4098887     51\n",
              "1515187     51\n",
              "3451582     51\n",
              "3574074     51\n",
              "2906650     51\n",
              "3508439     51\n",
              "1655296     51\n",
              "Name: userId, Length: 1466, dtype: int64"
            ]
          },
          "metadata": {
            "tags": []
          },
          "execution_count": 16
        }
      ]
    },
    {
      "cell_type": "code",
      "metadata": {
        "id": "jTx8iYmG4XmH",
        "colab_type": "code",
        "outputId": "832cdaae-23b1-4f35-b26b-4a0ae62fceb9",
        "colab": {
          "base_uri": "https://localhost:8080/",
          "height": 156
        }
      },
      "source": [
        "ratings_filter_df.info()\n",
        "# From (7824482, 4), we have trimmed the data down to (122171, 4)"
      ],
      "execution_count": 17,
      "outputs": [
        {
          "output_type": "stream",
          "text": [
            "<class 'pandas.core.frame.DataFrame'>\n",
            "Int64Index: 122171 entries, 118 to 7824444\n",
            "Data columns (total 3 columns):\n",
            "userId       122171 non-null int32\n",
            "productId    122171 non-null int32\n",
            "ratings      122171 non-null float64\n",
            "dtypes: float64(1), int32(2)\n",
            "memory usage: 2.8 MB\n"
          ],
          "name": "stdout"
        }
      ]
    },
    {
      "cell_type": "code",
      "metadata": {
        "id": "v0st2LxR4XmL",
        "colab_type": "code",
        "colab": {}
      },
      "source": [
        "#Now, let's see the distribution of ratings"
      ],
      "execution_count": 0,
      "outputs": []
    },
    {
      "cell_type": "code",
      "metadata": {
        "id": "mn3sYDRv4XmO",
        "colab_type": "code",
        "outputId": "7ff1d2cc-3c6b-493e-f91b-4770f01166bd",
        "colab": {
          "base_uri": "https://localhost:8080/",
          "height": 316
        }
      },
      "source": [
        "ratings_filter_df.hist(column = 'ratings', bins= 5, grid=False,)"
      ],
      "execution_count": 19,
      "outputs": [
        {
          "output_type": "execute_result",
          "data": {
            "text/plain": [
              "array([[<matplotlib.axes._subplots.AxesSubplot object at 0x7fe64dab3f28>]],\n",
              "      dtype=object)"
            ]
          },
          "metadata": {
            "tags": []
          },
          "execution_count": 19
        },
        {
          "output_type": "display_data",
          "data": {
            "image/png": "[encoded data removed]",
            "text/plain": [
              "<Figure size 432x288 with 1 Axes>"
            ]
          },
          "metadata": {
            "tags": []
          }
        }
      ]
    },
    {
      "cell_type": "markdown",
      "metadata": {
        "id": "uGdIx-GN4XmT",
        "colab_type": "text"
      },
      "source": [
        "### 3. Split the data randomly into train and test dataset. ( For example, split it in 70/30 ratio)"
      ]
    },
    {
      "cell_type": "code",
      "metadata": {
        "id": "DXrGocQR4XmU",
        "colab_type": "code",
        "colab": {}
      },
      "source": [
        "\n",
        "train_data, test_data = train_test_split(ratings_filter_df, test_size = .3, random_state=123)"
      ],
      "execution_count": 0,
      "outputs": []
    },
    {
      "cell_type": "code",
      "metadata": {
        "id": "aKJ1sumC4Xma",
        "colab_type": "code",
        "outputId": "6afa088d-5e40-4586-b578-bcb0cd7fb7c8",
        "colab": {
          "base_uri": "https://localhost:8080/",
          "height": 35
        }
      },
      "source": [
        "ratings_filter_df.shape"
      ],
      "execution_count": 21,
      "outputs": [
        {
          "output_type": "execute_result",
          "data": {
            "text/plain": [
              "(122171, 3)"
            ]
          },
          "metadata": {
            "tags": []
          },
          "execution_count": 21
        }
      ]
    },
    {
      "cell_type": "markdown",
      "metadata": {
        "id": "N_fL7nsu4Xmd",
        "colab_type": "text"
      },
      "source": [
        "### 4.Build Popularity Recommender model."
      ]
    },
    {
      "cell_type": "code",
      "metadata": {
        "id": "TlXJxi0v_1pF",
        "colab_type": "code",
        "colab": {}
      },
      "source": [
        "#convert the dataset in SFrames as expected by turicreate\n",
        "train_data = turicreate.SFrame(train_data)\n",
        "test_data = turicreate.SFrame(test_data)"
      ],
      "execution_count": 0,
      "outputs": []
    },
    {
      "cell_type": "code",
      "metadata": {
        "id": "D-NDudjI4Xmk",
        "colab_type": "code",
        "outputId": "32935cf6-0128-43a0-f188-81f5ec13d907",
        "colab": {
          "base_uri": "https://localhost:8080/",
          "height": 0
        }
      },
      "source": [
        "#creating the popularity model\n",
        "popularity_model = turicreate.popularity_recommender.create(train_data, user_id='userId', item_id='productId', target='ratings', random_seed=0)"
      ],
      "execution_count": 23,
      "outputs": [
        {
          "output_type": "display_data",
          "data": {
            "text/html": [
              "<pre>Preparing data set.</pre>"
            ],
            "text/plain": [
              "Preparing data set."
            ]
          },
          "metadata": {
            "tags": []
          }
        },
        {
          "output_type": "display_data",
          "data": {
            "text/html": [
              "<pre>    Data has 85519 observations with 1466 users and 37423 items.</pre>"
            ],
            "text/plain": [
              "    Data has 85519 observations with 1466 users and 37423 items."
            ]
          },
          "metadata": {
            "tags": []
          }
        },
        {
          "output_type": "display_data",
          "data": {
            "text/html": [
              "<pre>    Data prepared in: 0.121497s</pre>"
            ],
            "text/plain": [
              "    Data prepared in: 0.121497s"
            ]
          },
          "metadata": {
            "tags": []
          }
        },
        {
          "output_type": "display_data",
          "data": {
            "text/html": [
              "<pre>85519 observations to process; with 37423 unique items.</pre>"
            ],
            "text/plain": [
              "85519 observations to process; with 37423 unique items."
            ]
          },
          "metadata": {
            "tags": []
          }
        }
      ]
    },
    {
      "cell_type": "code",
      "metadata": {
        "id": "ejCrgJGi4Xmm",
        "colab_type": "code",
        "outputId": "eb3c5e55-3a4a-4d0f-c540-b7280c3307d8",
        "colab": {
          "base_uri": "https://localhost:8080/",
          "height": 0
        }
      },
      "source": [
        "#recommending for new users\n",
        "popularity_recomm = popularity_model.recommend(users=[1,2,3,4,5],k=5)\n",
        "popularity_recomm.print_rows(num_rows=25)"
      ],
      "execution_count": 24,
      "outputs": [
        {
          "output_type": "stream",
          "text": [
            "+--------+-----------+-------+------+\n",
            "| userId | productId | score | rank |\n",
            "+--------+-----------+-------+------+\n",
            "|   1    |   401699  |  5.0  |  1   |\n",
            "|   1    |   361788  |  5.0  |  2   |\n",
            "|   1    |   401202  |  5.0  |  3   |\n",
            "|   1    |   352610  |  5.0  |  4   |\n",
            "|   1    |   100651  |  5.0  |  5   |\n",
            "|   2    |   401699  |  5.0  |  1   |\n",
            "|   2    |   361788  |  5.0  |  2   |\n",
            "|   2    |   401202  |  5.0  |  3   |\n",
            "|   2    |   352610  |  5.0  |  4   |\n",
            "|   2    |   100651  |  5.0  |  5   |\n",
            "|   3    |   401699  |  5.0  |  1   |\n",
            "|   3    |   361788  |  5.0  |  2   |\n",
            "|   3    |   401202  |  5.0  |  3   |\n",
            "|   3    |   352610  |  5.0  |  4   |\n",
            "|   3    |   100651  |  5.0  |  5   |\n",
            "|   4    |   401699  |  5.0  |  1   |\n",
            "|   4    |   361788  |  5.0  |  2   |\n",
            "|   4    |   401202  |  5.0  |  3   |\n",
            "|   4    |   352610  |  5.0  |  4   |\n",
            "|   4    |   100651  |  5.0  |  5   |\n",
            "|   5    |   401699  |  5.0  |  1   |\n",
            "|   5    |   361788  |  5.0  |  2   |\n",
            "|   5    |   401202  |  5.0  |  3   |\n",
            "|   5    |   352610  |  5.0  |  4   |\n",
            "|   5    |   100651  |  5.0  |  5   |\n",
            "+--------+-----------+-------+------+\n",
            "[25 rows x 4 columns]\n",
            "\n"
          ],
          "name": "stdout"
        }
      ]
    },
    {
      "cell_type": "code",
      "metadata": {
        "id": "Zn7mUhHn4Xmo",
        "colab_type": "code",
        "colab": {}
      },
      "source": [
        "#The recommendations for all users are the same – 401699, 361788, 401202, 352610, 100651. \n",
        "#And they’re all in the same order! This confirms that all the recommended movies have an average rating of 5, \n",
        "#i.e. all the users who watched the movie gave it a top rating. Thus our popularity system works as expected."
      ],
      "execution_count": 0,
      "outputs": []
    },
    {
      "cell_type": "code",
      "metadata": {
        "id": "Nz9VhGSPkGPh",
        "colab_type": "code",
        "outputId": "9c7273ce-4e3b-4f3e-f82a-cf1a2f09487f",
        "colab": {
          "base_uri": "https://localhost:8080/",
          "height": 0
        }
      },
      "source": [
        "popularity_model.evaluate_rmse(test_data, target='ratings')"
      ],
      "execution_count": 26,
      "outputs": [
        {
          "output_type": "execute_result",
          "data": {
            "text/plain": [
              "{'rmse_by_item': Columns:\n",
              " \tproductId\tint\n",
              " \trmse\tfloat\n",
              " \tcount\tint\n",
              " \n",
              " Rows: 20872\n",
              " \n",
              " Data:\n",
              " +-----------+---------------------+-------+\n",
              " | productId |         rmse        | count |\n",
              " +-----------+---------------------+-------+\n",
              " |   30459   |  0.816496580927726  |   3   |\n",
              " |   316228  |  1.2620002572527742 |   1   |\n",
              " |   154577  |  2.262000257252774  |   1   |\n",
              " |   374668  |  1.2961481396815722 |   5   |\n",
              " |   186667  | 0.48713836410227446 |   3   |\n",
              " |   434460  |  0.7730823048033114 |   8   |\n",
              " |   291756  |         0.5         |   1   |\n",
              " |   448800  |  1.2620002572527742 |   1   |\n",
              " |   219673  |  0.2620002572527742 |   1   |\n",
              " |   248916  |         0.75        |   3   |\n",
              " +-----------+---------------------+-------+\n",
              " [20872 rows x 3 columns]\n",
              " Note: Only the head of the SFrame is printed.\n",
              " You can use print_rows(num_rows=m, num_columns=n) to print more rows and columns.,\n",
              " 'rmse_by_user': Columns:\n",
              " \tuserId\tint\n",
              " \trmse\tfloat\n",
              " \tcount\tint\n",
              " \n",
              " Rows: 1466\n",
              " \n",
              " Data:\n",
              " +---------+--------------------+-------+\n",
              " |  userId |        rmse        | count |\n",
              " +---------+--------------------+-------+\n",
              " | 3089120 | 0.9540300160917953 |   25  |\n",
              " | 3345389 | 0.7855163098810154 |   8   |\n",
              " | 1218265 | 0.6290431853706171 |   16  |\n",
              " |  36205  | 1.3870474377408488 |   18  |\n",
              " |  688350 | 0.6866294873747963 |   21  |\n",
              " | 3810248 | 1.1047589746550115 |   17  |\n",
              " | 3931260 | 1.020435399923822  |   28  |\n",
              " | 2443323 | 0.9298957842674318 |   36  |\n",
              " | 2084670 | 0.6771051784299569 |   22  |\n",
              " | 3281781 | 0.875717838585558  |   21  |\n",
              " +---------+--------------------+-------+\n",
              " [1466 rows x 3 columns]\n",
              " Note: Only the head of the SFrame is printed.\n",
              " You can use print_rows(num_rows=m, num_columns=n) to print more rows and columns.,\n",
              " 'rmse_overall': 1.1061563970422748}"
            ]
          },
          "metadata": {
            "tags": []
          },
          "execution_count": 26
        }
      ]
    },
    {
      "cell_type": "markdown",
      "metadata": {
        "id": "4eUXOH-1kpqu",
        "colab_type": "text"
      },
      "source": [
        "### 5. Build Collaborative Filtering model."
      ]
    },
    {
      "cell_type": "code",
      "metadata": {
        "id": "dTMhNXfskwCT",
        "colab_type": "code",
        "outputId": "699faa25-6b2c-4db5-bc74-9eae293bad88",
        "colab": {
          "base_uri": "https://localhost:8080/",
          "height": 399
        }
      },
      "source": [
        "#Training the model\n",
        "item_sim_model = turicreate.item_similarity_recommender.create(train_data, user_id='userId', item_id='productId', target='ratings', similarity_type='cosine')"
      ],
      "execution_count": 27,
      "outputs": [
        {
          "output_type": "display_data",
          "data": {
            "text/html": [
              "<pre>Preparing data set.</pre>"
            ],
            "text/plain": [
              "Preparing data set."
            ]
          },
          "metadata": {
            "tags": []
          }
        },
        {
          "output_type": "display_data",
          "data": {
            "text/html": [
              "<pre>    Data has 85519 observations with 1466 users and 37423 items.</pre>"
            ],
            "text/plain": [
              "    Data has 85519 observations with 1466 users and 37423 items."
            ]
          },
          "metadata": {
            "tags": []
          }
        },
        {
          "output_type": "display_data",
          "data": {
            "text/html": [
              "<pre>    Data prepared in: 0.112754s</pre>"
            ],
            "text/plain": [
              "    Data prepared in: 0.112754s"
            ]
          },
          "metadata": {
            "tags": []
          }
        },
        {
          "output_type": "display_data",
          "data": {
            "text/html": [
              "<pre>Training model from provided data.</pre>"
            ],
            "text/plain": [
              "Training model from provided data."
            ]
          },
          "metadata": {
            "tags": []
          }
        },
        {
          "output_type": "display_data",
          "data": {
            "text/html": [
              "<pre>Gathering per-item and per-user statistics.</pre>"
            ],
            "text/plain": [
              "Gathering per-item and per-user statistics."
            ]
          },
          "metadata": {
            "tags": []
          }
        },
        {
          "output_type": "display_data",
          "data": {
            "text/html": [
              "<pre>+--------------------------------+------------+</pre>"
            ],
            "text/plain": [
              "+--------------------------------+------------+"
            ]
          },
          "metadata": {
            "tags": []
          }
        },
        {
          "output_type": "display_data",
          "data": {
            "text/html": [
              "<pre>| Elapsed Time (Item Statistics) | % Complete |</pre>"
            ],
            "text/plain": [
              "| Elapsed Time (Item Statistics) | % Complete |"
            ]
          },
          "metadata": {
            "tags": []
          }
        },
        {
          "output_type": "display_data",
          "data": {
            "text/html": [
              "<pre>+--------------------------------+------------+</pre>"
            ],
            "text/plain": [
              "+--------------------------------+------------+"
            ]
          },
          "metadata": {
            "tags": []
          }
        },
        {
          "output_type": "display_data",
          "data": {
            "text/html": [
              "<pre>| 9.615ms                        | 68         |</pre>"
            ],
            "text/plain": [
              "| 9.615ms                        | 68         |"
            ]
          },
          "metadata": {
            "tags": []
          }
        },
        {
          "output_type": "display_data",
          "data": {
            "text/html": [
              "<pre>| 13.135ms                       | 100        |</pre>"
            ],
            "text/plain": [
              "| 13.135ms                       | 100        |"
            ]
          },
          "metadata": {
            "tags": []
          }
        },
        {
          "output_type": "display_data",
          "data": {
            "text/html": [
              "<pre>+--------------------------------+------------+</pre>"
            ],
            "text/plain": [
              "+--------------------------------+------------+"
            ]
          },
          "metadata": {
            "tags": []
          }
        },
        {
          "output_type": "display_data",
          "data": {
            "text/html": [
              "<pre>Setting up lookup tables.</pre>"
            ],
            "text/plain": [
              "Setting up lookup tables."
            ]
          },
          "metadata": {
            "tags": []
          }
        },
        {
          "output_type": "display_data",
          "data": {
            "text/html": [
              "<pre>Processing data in one pass using dense lookup tables.</pre>"
            ],
            "text/plain": [
              "Processing data in one pass using dense lookup tables."
            ]
          },
          "metadata": {
            "tags": []
          }
        },
        {
          "output_type": "display_data",
          "data": {
            "text/html": [
              "<pre>+-------------------------------------+------------------+-----------------+</pre>"
            ],
            "text/plain": [
              "+-------------------------------------+------------------+-----------------+"
            ]
          },
          "metadata": {
            "tags": []
          }
        },
        {
          "output_type": "display_data",
          "data": {
            "text/html": [
              "<pre>| Elapsed Time (Constructing Lookups) | Total % Complete | Items Processed |</pre>"
            ],
            "text/plain": [
              "| Elapsed Time (Constructing Lookups) | Total % Complete | Items Processed |"
            ]
          },
          "metadata": {
            "tags": []
          }
        },
        {
          "output_type": "display_data",
          "data": {
            "text/html": [
              "<pre>+-------------------------------------+------------------+-----------------+</pre>"
            ],
            "text/plain": [
              "+-------------------------------------+------------------+-----------------+"
            ]
          },
          "metadata": {
            "tags": []
          }
        },
        {
          "output_type": "display_data",
          "data": {
            "text/html": [
              "<pre>| 4.85s                               | 0                | 13              |</pre>"
            ],
            "text/plain": [
              "| 4.85s                               | 0                | 13              |"
            ]
          },
          "metadata": {
            "tags": []
          }
        },
        {
          "output_type": "display_data",
          "data": {
            "text/html": [
              "<pre>| 20.95s                              | 100              | 37423           |</pre>"
            ],
            "text/plain": [
              "| 20.95s                              | 100              | 37423           |"
            ]
          },
          "metadata": {
            "tags": []
          }
        },
        {
          "output_type": "display_data",
          "data": {
            "text/html": [
              "<pre>+-------------------------------------+------------------+-----------------+</pre>"
            ],
            "text/plain": [
              "+-------------------------------------+------------------+-----------------+"
            ]
          },
          "metadata": {
            "tags": []
          }
        },
        {
          "output_type": "display_data",
          "data": {
            "text/html": [
              "<pre>Finalizing lookup tables.</pre>"
            ],
            "text/plain": [
              "Finalizing lookup tables."
            ]
          },
          "metadata": {
            "tags": []
          }
        },
        {
          "output_type": "display_data",
          "data": {
            "text/html": [
              "<pre>Generating candidate set for working with new users.</pre>"
            ],
            "text/plain": [
              "Generating candidate set for working with new users."
            ]
          },
          "metadata": {
            "tags": []
          }
        },
        {
          "output_type": "display_data",
          "data": {
            "text/html": [
              "<pre>Finished training in 22.0255s</pre>"
            ],
            "text/plain": [
              "Finished training in 22.0255s"
            ]
          },
          "metadata": {
            "tags": []
          }
        }
      ]
    },
    {
      "cell_type": "code",
      "metadata": {
        "id": "TLhJ2YNemQ9q",
        "colab_type": "code",
        "outputId": "11203dcc-5a6b-4ccf-d443-fc021e894e46",
        "colab": {
          "base_uri": "https://localhost:8080/",
          "height": 884
        }
      },
      "source": [
        "modelFactorization = turicreate.recommender.ranking_factorization_recommender.create(train_data,\n",
        "                                          user_id='userId',\n",
        "                                    item_id='productId',\n",
        "                                    target='ratings')\n",
        "results = modelFactorization.recommend(k=5)"
      ],
      "execution_count": 28,
      "outputs": [
        {
          "output_type": "display_data",
          "data": {
            "text/html": [
              "<pre>Preparing data set.</pre>"
            ],
            "text/plain": [
              "Preparing data set."
            ]
          },
          "metadata": {
            "tags": []
          }
        },
        {
          "output_type": "display_data",
          "data": {
            "text/html": [
              "<pre>    Data has 85519 observations with 1466 users and 37423 items.</pre>"
            ],
            "text/plain": [
              "    Data has 85519 observations with 1466 users and 37423 items."
            ]
          },
          "metadata": {
            "tags": []
          }
        },
        {
          "output_type": "display_data",
          "data": {
            "text/html": [
              "<pre>    Data prepared in: 0.114636s</pre>"
            ],
            "text/plain": [
              "    Data prepared in: 0.114636s"
            ]
          },
          "metadata": {
            "tags": []
          }
        },
        {
          "output_type": "display_data",
          "data": {
            "text/html": [
              "<pre>Training ranking_factorization_recommender for recommendations.</pre>"
            ],
            "text/plain": [
              "Training ranking_factorization_recommender for recommendations."
            ]
          },
          "metadata": {
            "tags": []
          }
        },
        {
          "output_type": "display_data",
          "data": {
            "text/html": [
              "<pre>+--------------------------------+--------------------------------------------------+----------+</pre>"
            ],
            "text/plain": [
              "+--------------------------------+--------------------------------------------------+----------+"
            ]
          },
          "metadata": {
            "tags": []
          }
        },
        {
          "output_type": "display_data",
          "data": {
            "text/html": [
              "<pre>| Parameter                      | Description                                      | Value    |</pre>"
            ],
            "text/plain": [
              "| Parameter                      | Description                                      | Value    |"
            ]
          },
          "metadata": {
            "tags": []
          }
        },
        {
          "output_type": "display_data",
          "data": {
            "text/html": [
              "<pre>+--------------------------------+--------------------------------------------------+----------+</pre>"
            ],
            "text/plain": [
              "+--------------------------------+--------------------------------------------------+----------+"
            ]
          },
          "metadata": {
            "tags": []
          }
        },
        {
          "output_type": "display_data",
          "data": {
            "text/html": [
              "<pre>| num_factors                    | Factor Dimension                                 | 32       |</pre>"
            ],
            "text/plain": [
              "| num_factors                    | Factor Dimension                                 | 32       |"
            ]
          },
          "metadata": {
            "tags": []
          }
        },
        {
          "output_type": "display_data",
          "data": {
            "text/html": [
              "<pre>| regularization                 | L2 Regularization on Factors                     | 1e-09    |</pre>"
            ],
            "text/plain": [
              "| regularization                 | L2 Regularization on Factors                     | 1e-09    |"
            ]
          },
          "metadata": {
            "tags": []
          }
        },
        {
          "output_type": "display_data",
          "data": {
            "text/html": [
              "<pre>| solver                         | Solver used for training                         | sgd      |</pre>"
            ],
            "text/plain": [
              "| solver                         | Solver used for training                         | sgd      |"
            ]
          },
          "metadata": {
            "tags": []
          }
        },
        {
          "output_type": "display_data",
          "data": {
            "text/html": [
              "<pre>| linear_regularization          | L2 Regularization on Linear Coefficients         | 1e-09    |</pre>"
            ],
            "text/plain": [
              "| linear_regularization          | L2 Regularization on Linear Coefficients         | 1e-09    |"
            ]
          },
          "metadata": {
            "tags": []
          }
        },
        {
          "output_type": "display_data",
          "data": {
            "text/html": [
              "<pre>| ranking_regularization         | Rank-based Regularization Weight                 | 0.25     |</pre>"
            ],
            "text/plain": [
              "| ranking_regularization         | Rank-based Regularization Weight                 | 0.25     |"
            ]
          },
          "metadata": {
            "tags": []
          }
        },
        {
          "output_type": "display_data",
          "data": {
            "text/html": [
              "<pre>| max_iterations                 | Maximum Number of Iterations                     | 25       |</pre>"
            ],
            "text/plain": [
              "| max_iterations                 | Maximum Number of Iterations                     | 25       |"
            ]
          },
          "metadata": {
            "tags": []
          }
        },
        {
          "output_type": "display_data",
          "data": {
            "text/html": [
              "<pre>+--------------------------------+--------------------------------------------------+----------+</pre>"
            ],
            "text/plain": [
              "+--------------------------------+--------------------------------------------------+----------+"
            ]
          },
          "metadata": {
            "tags": []
          }
        },
        {
          "output_type": "display_data",
          "data": {
            "text/html": [
              "<pre>  Optimizing model using SGD; tuning step size.</pre>"
            ],
            "text/plain": [
              "  Optimizing model using SGD; tuning step size."
            ]
          },
          "metadata": {
            "tags": []
          }
        },
        {
          "output_type": "display_data",
          "data": {
            "text/html": [
              "<pre>  Using 10689 / 85519 points for tuning the step size.</pre>"
            ],
            "text/plain": [
              "  Using 10689 / 85519 points for tuning the step size."
            ]
          },
          "metadata": {
            "tags": []
          }
        },
        {
          "output_type": "display_data",
          "data": {
            "text/html": [
              "<pre>+---------+-------------------+------------------------------------------+</pre>"
            ],
            "text/plain": [
              "+---------+-------------------+------------------------------------------+"
            ]
          },
          "metadata": {
            "tags": []
          }
        },
        {
          "output_type": "display_data",
          "data": {
            "text/html": [
              "<pre>| Attempt | Initial Step Size | Estimated Objective Value                |</pre>"
            ],
            "text/plain": [
              "| Attempt | Initial Step Size | Estimated Objective Value                |"
            ]
          },
          "metadata": {
            "tags": []
          }
        },
        {
          "output_type": "display_data",
          "data": {
            "text/html": [
              "<pre>+---------+-------------------+------------------------------------------+</pre>"
            ],
            "text/plain": [
              "+---------+-------------------+------------------------------------------+"
            ]
          },
          "metadata": {
            "tags": []
          }
        },
        {
          "output_type": "display_data",
          "data": {
            "text/html": [
              "<pre>| 0       | 25                | Not Viable                               |</pre>"
            ],
            "text/plain": [
              "| 0       | 25                | Not Viable                               |"
            ]
          },
          "metadata": {
            "tags": []
          }
        },
        {
          "output_type": "display_data",
          "data": {
            "text/html": [
              "<pre>| 1       | 6.25              | Not Viable                               |</pre>"
            ],
            "text/plain": [
              "| 1       | 6.25              | Not Viable                               |"
            ]
          },
          "metadata": {
            "tags": []
          }
        },
        {
          "output_type": "display_data",
          "data": {
            "text/html": [
              "<pre>| 2       | 1.5625            | Not Viable                               |</pre>"
            ],
            "text/plain": [
              "| 2       | 1.5625            | Not Viable                               |"
            ]
          },
          "metadata": {
            "tags": []
          }
        },
        {
          "output_type": "display_data",
          "data": {
            "text/html": [
              "<pre>| 3       | 0.390625          | 1.05349                                  |</pre>"
            ],
            "text/plain": [
              "| 3       | 0.390625          | 1.05349                                  |"
            ]
          },
          "metadata": {
            "tags": []
          }
        },
        {
          "output_type": "display_data",
          "data": {
            "text/html": [
              "<pre>| 4       | 0.195312          | 1.13997                                  |</pre>"
            ],
            "text/plain": [
              "| 4       | 0.195312          | 1.13997                                  |"
            ]
          },
          "metadata": {
            "tags": []
          }
        },
        {
          "output_type": "display_data",
          "data": {
            "text/html": [
              "<pre>| 5       | 0.0976562         | 1.29509                                  |</pre>"
            ],
            "text/plain": [
              "| 5       | 0.0976562         | 1.29509                                  |"
            ]
          },
          "metadata": {
            "tags": []
          }
        },
        {
          "output_type": "display_data",
          "data": {
            "text/html": [
              "<pre>| 6       | 0.0488281         | 1.47197                                  |</pre>"
            ],
            "text/plain": [
              "| 6       | 0.0488281         | 1.47197                                  |"
            ]
          },
          "metadata": {
            "tags": []
          }
        },
        {
          "output_type": "display_data",
          "data": {
            "text/html": [
              "<pre>+---------+-------------------+------------------------------------------+</pre>"
            ],
            "text/plain": [
              "+---------+-------------------+------------------------------------------+"
            ]
          },
          "metadata": {
            "tags": []
          }
        },
        {
          "output_type": "display_data",
          "data": {
            "text/html": [
              "<pre>| Final   | 0.390625          | 1.05349                                  |</pre>"
            ],
            "text/plain": [
              "| Final   | 0.390625          | 1.05349                                  |"
            ]
          },
          "metadata": {
            "tags": []
          }
        },
        {
          "output_type": "display_data",
          "data": {
            "text/html": [
              "<pre>+---------+-------------------+------------------------------------------+</pre>"
            ],
            "text/plain": [
              "+---------+-------------------+------------------------------------------+"
            ]
          },
          "metadata": {
            "tags": []
          }
        },
        {
          "output_type": "display_data",
          "data": {
            "text/html": [
              "<pre>Starting Optimization.</pre>"
            ],
            "text/plain": [
              "Starting Optimization."
            ]
          },
          "metadata": {
            "tags": []
          }
        },
        {
          "output_type": "display_data",
          "data": {
            "text/html": [
              "<pre>+---------+--------------+-------------------+-----------------------+-------------+</pre>"
            ],
            "text/plain": [
              "+---------+--------------+-------------------+-----------------------+-------------+"
            ]
          },
          "metadata": {
            "tags": []
          }
        },
        {
          "output_type": "display_data",
          "data": {
            "text/html": [
              "<pre>| Iter.   | Elapsed Time | Approx. Objective | Approx. Training RMSE | Step Size   |</pre>"
            ],
            "text/plain": [
              "| Iter.   | Elapsed Time | Approx. Objective | Approx. Training RMSE | Step Size   |"
            ]
          },
          "metadata": {
            "tags": []
          }
        },
        {
          "output_type": "display_data",
          "data": {
            "text/html": [
              "<pre>+---------+--------------+-------------------+-----------------------+-------------+</pre>"
            ],
            "text/plain": [
              "+---------+--------------+-------------------+-----------------------+-------------+"
            ]
          },
          "metadata": {
            "tags": []
          }
        },
        {
          "output_type": "display_data",
          "data": {
            "text/html": [
              "<pre>| Initial | 142us        | 2.19842           | 1.05889               |             |</pre>"
            ],
            "text/plain": [
              "| Initial | 142us        | 2.19842           | 1.05889               |             |"
            ]
          },
          "metadata": {
            "tags": []
          }
        },
        {
          "output_type": "display_data",
          "data": {
            "text/html": [
              "<pre>+---------+--------------+-------------------+-----------------------+-------------+</pre>"
            ],
            "text/plain": [
              "+---------+--------------+-------------------+-----------------------+-------------+"
            ]
          },
          "metadata": {
            "tags": []
          }
        },
        {
          "output_type": "display_data",
          "data": {
            "text/html": [
              "<pre>| 1       | 172.77ms     | DIVERGED          | DIVERGED              | 0.390625    |</pre>"
            ],
            "text/plain": [
              "| 1       | 172.77ms     | DIVERGED          | DIVERGED              | 0.390625    |"
            ]
          },
          "metadata": {
            "tags": []
          }
        },
        {
          "output_type": "display_data",
          "data": {
            "text/html": [
              "<pre>| RESET   | 296.257ms    | 2.19843           | 1.05889               |             |</pre>"
            ],
            "text/plain": [
              "| RESET   | 296.257ms    | 2.19843           | 1.05889               |             |"
            ]
          },
          "metadata": {
            "tags": []
          }
        },
        {
          "output_type": "display_data",
          "data": {
            "text/html": [
              "<pre>| 1       | 413.536ms    | 2.45441           | 1.22735               | 0.195312    |</pre>"
            ],
            "text/plain": [
              "| 1       | 413.536ms    | 2.45441           | 1.22735               | 0.195312    |"
            ]
          },
          "metadata": {
            "tags": []
          }
        },
        {
          "output_type": "display_data",
          "data": {
            "text/html": [
              "<pre>| 2       | 518.122ms    | 2.08521           | 1.08098               | 0.116134    |</pre>"
            ],
            "text/plain": [
              "| 2       | 518.122ms    | 2.08521           | 1.08098               | 0.116134    |"
            ]
          },
          "metadata": {
            "tags": []
          }
        },
        {
          "output_type": "display_data",
          "data": {
            "text/html": [
              "<pre>| 3       | 631.068ms    | 1.8047            | 0.970982              | 0.0856819   |</pre>"
            ],
            "text/plain": [
              "| 3       | 631.068ms    | 1.8047            | 0.970982              | 0.0856819   |"
            ]
          },
          "metadata": {
            "tags": []
          }
        },
        {
          "output_type": "display_data",
          "data": {
            "text/html": [
              "<pre>| 4       | 741.647ms    | 1.47862           | 0.820642              | 0.0580668   |</pre>"
            ],
            "text/plain": [
              "| 4       | 741.647ms    | 1.47862           | 0.820642              | 0.0580668   |"
            ]
          },
          "metadata": {
            "tags": []
          }
        },
        {
          "output_type": "display_data",
          "data": {
            "text/html": [
              "<pre>| 5       | 848.78ms     | 1.23452           | 0.69738               | 0.0491185   |</pre>"
            ],
            "text/plain": [
              "| 5       | 848.78ms     | 1.23452           | 0.69738               | 0.0491185   |"
            ]
          },
          "metadata": {
            "tags": []
          }
        },
        {
          "output_type": "display_data",
          "data": {
            "text/html": [
              "<pre>| 9       | 1.26s        | 0.690708          | 0.422302              | 0.0316075   |</pre>"
            ],
            "text/plain": [
              "| 9       | 1.26s        | 0.690708          | 0.422302              | 0.0316075   |"
            ]
          },
          "metadata": {
            "tags": []
          }
        },
        {
          "output_type": "display_data",
          "data": {
            "text/html": [
              "<pre>| 25      | 2.81s        | 0.187829          | 0.163701              | 0.0146899   |</pre>"
            ],
            "text/plain": [
              "| 25      | 2.81s        | 0.187829          | 0.163701              | 0.0146899   |"
            ]
          },
          "metadata": {
            "tags": []
          }
        },
        {
          "output_type": "display_data",
          "data": {
            "text/html": [
              "<pre>+---------+--------------+-------------------+-----------------------+-------------+</pre>"
            ],
            "text/plain": [
              "+---------+--------------+-------------------+-----------------------+-------------+"
            ]
          },
          "metadata": {
            "tags": []
          }
        },
        {
          "output_type": "display_data",
          "data": {
            "text/html": [
              "<pre>Optimization Complete: Maximum number of passes through the data reached.</pre>"
            ],
            "text/plain": [
              "Optimization Complete: Maximum number of passes through the data reached."
            ]
          },
          "metadata": {
            "tags": []
          }
        },
        {
          "output_type": "display_data",
          "data": {
            "text/html": [
              "<pre>Computing final objective value and training RMSE.</pre>"
            ],
            "text/plain": [
              "Computing final objective value and training RMSE."
            ]
          },
          "metadata": {
            "tags": []
          }
        },
        {
          "output_type": "display_data",
          "data": {
            "text/html": [
              "<pre>       Final objective value: 0.172311</pre>"
            ],
            "text/plain": [
              "       Final objective value: 0.172311"
            ]
          },
          "metadata": {
            "tags": []
          }
        },
        {
          "output_type": "display_data",
          "data": {
            "text/html": [
              "<pre>       Final training RMSE: 0.127969</pre>"
            ],
            "text/plain": [
              "       Final training RMSE: 0.127969"
            ]
          },
          "metadata": {
            "tags": []
          }
        },
        {
          "output_type": "display_data",
          "data": {
            "text/html": [
              "<pre>recommendations finished on 1000/1466 queries. users per second: 1688.39</pre>"
            ],
            "text/plain": [
              "recommendations finished on 1000/1466 queries. users per second: 1688.39"
            ]
          },
          "metadata": {
            "tags": []
          }
        }
      ]
    },
    {
      "cell_type": "markdown",
      "metadata": {
        "id": "8KewKc45nrrR",
        "colab_type": "text"
      },
      "source": [
        "### 6. Evaluate both the models. ( Once the model is trained on the training data, it can be used to compute the error (like RMSE) on predictions made on the test data.) You can also use a different method to evaluate the models.\n"
      ]
    },
    {
      "cell_type": "code",
      "metadata": {
        "id": "mcVt6XRWmgJE",
        "colab_type": "code",
        "outputId": "71a20105-faae-4535-c81e-4410fb20ba82",
        "colab": {
          "base_uri": "https://localhost:8080/",
          "height": 1000
        }
      },
      "source": [
        "turicreate.recommender.util.compare_models(test_data, [popularity_model, item_sim_model],model_names=['Popularity Model', 'Collaborative-Item Similarity Model'])\n"
      ],
      "execution_count": 29,
      "outputs": [
        {
          "output_type": "stream",
          "text": [
            "PROGRESS: Evaluate model Popularity Model\n"
          ],
          "name": "stdout"
        },
        {
          "output_type": "display_data",
          "data": {
            "text/html": [
              "<pre>recommendations finished on 1000/1466 queries. users per second: 2144.86</pre>"
            ],
            "text/plain": [
              "recommendations finished on 1000/1466 queries. users per second: 2144.86"
            ]
          },
          "metadata": {
            "tags": []
          }
        },
        {
          "output_type": "stream",
          "text": [
            "\n",
            "Precision and recall summary statistics by cutoff\n",
            "+--------+-----------------------+------------------------+\n",
            "| cutoff |     mean_precision    |      mean_recall       |\n",
            "+--------+-----------------------+------------------------+\n",
            "|   1    |          0.0          |          0.0           |\n",
            "|   2    |          0.0          |          0.0           |\n",
            "|   3    |          0.0          |          0.0           |\n",
            "|   4    |          0.0          |          0.0           |\n",
            "|   5    |          0.0          |          0.0           |\n",
            "|   6    |          0.0          |          0.0           |\n",
            "|   7    |          0.0          |          0.0           |\n",
            "|   8    |  8.52660300136427e-05 | 3.5901486321533724e-05 |\n",
            "|   9    | 7.579202667879339e-05 | 3.5901486321533724e-05 |\n",
            "|   10   | 6.821282401091419e-05 | 3.5901486321533724e-05 |\n",
            "+--------+-----------------------+------------------------+\n",
            "[10 rows x 3 columns]\n",
            "\n",
            "\n",
            "Overall RMSE: 1.1061563970422748\n",
            "\n",
            "Per User RMSE (best)\n",
            "+--------+---------------------+-------+\n",
            "| userId |         rmse        | count |\n",
            "+--------+---------------------+-------+\n",
            "| 541010 | 0.42104339477801517 |   18  |\n",
            "+--------+---------------------+-------+\n",
            "[1 rows x 3 columns]\n",
            "\n",
            "\n",
            "Per User RMSE (worst)\n",
            "+--------+--------------------+-------+\n",
            "| userId |        rmse        | count |\n",
            "+--------+--------------------+-------+\n",
            "| 735455 | 2.7147944577223475 |   17  |\n",
            "+--------+--------------------+-------+\n",
            "[1 rows x 3 columns]\n",
            "\n",
            "\n",
            "Per Item RMSE (best)\n",
            "+-----------+------+-------+\n",
            "| productId | rmse | count |\n",
            "+-----------+------+-------+\n",
            "|   81414   | 0.0  |   1   |\n",
            "+-----------+------+-------+\n",
            "[1 rows x 3 columns]\n",
            "\n",
            "\n",
            "Per Item RMSE (worst)\n",
            "+-----------+------+-------+\n",
            "| productId | rmse | count |\n",
            "+-----------+------+-------+\n",
            "|   95000   | 4.0  |   1   |\n",
            "+-----------+------+-------+\n",
            "[1 rows x 3 columns]\n",
            "\n",
            "PROGRESS: Evaluate model Collaborative-Item Similarity Model\n"
          ],
          "name": "stdout"
        },
        {
          "output_type": "display_data",
          "data": {
            "text/html": [
              "<pre>recommendations finished on 1000/1466 queries. users per second: 2205.14</pre>"
            ],
            "text/plain": [
              "recommendations finished on 1000/1466 queries. users per second: 2205.14"
            ]
          },
          "metadata": {
            "tags": []
          }
        },
        {
          "output_type": "stream",
          "text": [
            "\n",
            "Precision and recall summary statistics by cutoff\n",
            "+--------+-----------------------+-----------------------+\n",
            "| cutoff |     mean_precision    |      mean_recall      |\n",
            "+--------+-----------------------+-----------------------+\n",
            "|   1    |  0.01091405184174626  | 0.0004843855975712753 |\n",
            "|   2    |  0.008867667121418824 | 0.0007355697409345018 |\n",
            "|   3    |  0.007276034561164167 | 0.0008929252301992315 |\n",
            "|   4    | 0.0071623465211459745 | 0.0011113001802709728 |\n",
            "|   5    | 0.0064120054570259155 | 0.0012429953093256055 |\n",
            "|   6    |  0.006366530241018648 | 0.0015158142463445898 |\n",
            "|   7    |  0.005651919703761451 | 0.0015754288152280778 |\n",
            "|   8    |  0.005883356070941338 | 0.0018394449965377932 |\n",
            "|   9    |  0.005760194027588293 | 0.0020069015341539877 |\n",
            "|   10   | 0.0054570259208731355 | 0.0021412759707004777 |\n",
            "+--------+-----------------------+-----------------------+\n",
            "[10 rows x 3 columns]\n",
            "\n",
            "\n",
            "Overall RMSE: 4.39028681776448\n",
            "\n",
            "Per User RMSE (best)\n",
            "+--------+------+-------+\n",
            "| userId | rmse | count |\n",
            "+--------+------+-------+\n",
            "| 926644 | 2.0  |   12  |\n",
            "+--------+------+-------+\n",
            "[1 rows x 3 columns]\n",
            "\n",
            "\n",
            "Per User RMSE (worst)\n",
            "+---------+------+-------+\n",
            "|  userId | rmse | count |\n",
            "+---------+------+-------+\n",
            "| 3345389 | 5.0  |   8   |\n",
            "+---------+------+-------+\n",
            "[1 rows x 3 columns]\n",
            "\n",
            "\n",
            "Per Item RMSE (best)\n",
            "+-----------+--------------------+-------+\n",
            "| productId |        rmse        | count |\n",
            "+-----------+--------------------+-------+\n",
            "|   206143  | 0.9323106863919426 |   1   |\n",
            "+-----------+--------------------+-------+\n",
            "[1 rows x 3 columns]\n",
            "\n",
            "\n",
            "Per Item RMSE (worst)\n",
            "+-----------+------+-------+\n",
            "| productId | rmse | count |\n",
            "+-----------+------+-------+\n",
            "|   291756  | 5.0  |   1   |\n",
            "+-----------+------+-------+\n",
            "[1 rows x 3 columns]\n",
            "\n"
          ],
          "name": "stdout"
        },
        {
          "output_type": "execute_result",
          "data": {
            "text/plain": [
              "[{'precision_recall_by_user': Columns:\n",
              "  \tuserId\tint\n",
              "  \tcutoff\tint\n",
              "  \tprecision\tfloat\n",
              "  \trecall\tfloat\n",
              "  \tcount\tint\n",
              "  \n",
              "  Rows: 26388\n",
              "  \n",
              "  Data:\n",
              "  +---------+--------+-----------+--------+-------+\n",
              "  |  userId | cutoff | precision | recall | count |\n",
              "  +---------+--------+-----------+--------+-------+\n",
              "  | 1516223 |   1    |    0.0    |  0.0   |   33  |\n",
              "  | 1516223 |   2    |    0.0    |  0.0   |   33  |\n",
              "  | 1516223 |   3    |    0.0    |  0.0   |   33  |\n",
              "  | 1516223 |   4    |    0.0    |  0.0   |   33  |\n",
              "  | 1516223 |   5    |    0.0    |  0.0   |   33  |\n",
              "  | 1516223 |   6    |    0.0    |  0.0   |   33  |\n",
              "  | 1516223 |   7    |    0.0    |  0.0   |   33  |\n",
              "  | 1516223 |   8    |    0.0    |  0.0   |   33  |\n",
              "  | 1516223 |   9    |    0.0    |  0.0   |   33  |\n",
              "  | 1516223 |   10   |    0.0    |  0.0   |   33  |\n",
              "  +---------+--------+-----------+--------+-------+\n",
              "  [26388 rows x 5 columns]\n",
              "  Note: Only the head of the SFrame is printed.\n",
              "  You can use print_rows(num_rows=m, num_columns=n) to print more rows and columns.,\n",
              "  'precision_recall_overall': Columns:\n",
              "  \tcutoff\tint\n",
              "  \tprecision\tfloat\n",
              "  \trecall\tfloat\n",
              "  \n",
              "  Rows: 18\n",
              "  \n",
              "  Data:\n",
              "  +--------+-----------------------+------------------------+\n",
              "  | cutoff |       precision       |         recall         |\n",
              "  +--------+-----------------------+------------------------+\n",
              "  |   1    |          0.0          |          0.0           |\n",
              "  |   2    |          0.0          |          0.0           |\n",
              "  |   3    |          0.0          |          0.0           |\n",
              "  |   4    |          0.0          |          0.0           |\n",
              "  |   5    |          0.0          |          0.0           |\n",
              "  |   6    |          0.0          |          0.0           |\n",
              "  |   7    |          0.0          |          0.0           |\n",
              "  |   8    |  8.52660300136427e-05 | 3.5901486321533724e-05 |\n",
              "  |   9    | 7.579202667879339e-05 | 3.5901486321533724e-05 |\n",
              "  |   10   | 6.821282401091419e-05 | 3.5901486321533724e-05 |\n",
              "  +--------+-----------------------+------------------------+\n",
              "  [18 rows x 3 columns]\n",
              "  Note: Only the head of the SFrame is printed.\n",
              "  You can use print_rows(num_rows=m, num_columns=n) to print more rows and columns.,\n",
              "  'rmse_by_item': Columns:\n",
              "  \tproductId\tint\n",
              "  \trmse\tfloat\n",
              "  \tcount\tint\n",
              "  \n",
              "  Rows: 20872\n",
              "  \n",
              "  Data:\n",
              "  +-----------+---------------------+-------+\n",
              "  | productId |         rmse        | count |\n",
              "  +-----------+---------------------+-------+\n",
              "  |   30459   |  0.816496580927726  |   3   |\n",
              "  |   316228  |  1.2620002572527742 |   1   |\n",
              "  |   154577  |  2.262000257252774  |   1   |\n",
              "  |   374668  |  1.2961481396815722 |   5   |\n",
              "  |   186667  | 0.48713836410227446 |   3   |\n",
              "  |   434460  |  0.7730823048033114 |   8   |\n",
              "  |   291756  |         0.5         |   1   |\n",
              "  |   448800  |  1.2620002572527742 |   1   |\n",
              "  |   219673  |  0.2620002572527742 |   1   |\n",
              "  |   248916  |         0.75        |   3   |\n",
              "  +-----------+---------------------+-------+\n",
              "  [20872 rows x 3 columns]\n",
              "  Note: Only the head of the SFrame is printed.\n",
              "  You can use print_rows(num_rows=m, num_columns=n) to print more rows and columns.,\n",
              "  'rmse_by_user': Columns:\n",
              "  \tuserId\tint\n",
              "  \trmse\tfloat\n",
              "  \tcount\tint\n",
              "  \n",
              "  Rows: 1466\n",
              "  \n",
              "  Data:\n",
              "  +---------+--------------------+-------+\n",
              "  |  userId |        rmse        | count |\n",
              "  +---------+--------------------+-------+\n",
              "  | 3089120 | 0.9540300160917952 |   25  |\n",
              "  | 3345389 | 0.7855163098810154 |   8   |\n",
              "  | 1218265 | 0.6290431853706171 |   16  |\n",
              "  |  36205  | 1.3870474377408488 |   18  |\n",
              "  |  688350 | 0.6866294873747962 |   21  |\n",
              "  | 3810248 | 1.1047589746550115 |   17  |\n",
              "  | 3931260 | 1.0204353999238223 |   28  |\n",
              "  | 2443323 | 0.9298957842674318 |   36  |\n",
              "  | 2084670 | 0.6771051784299569 |   22  |\n",
              "  | 3281781 | 0.8757178385855579 |   21  |\n",
              "  +---------+--------------------+-------+\n",
              "  [1466 rows x 3 columns]\n",
              "  Note: Only the head of the SFrame is printed.\n",
              "  You can use print_rows(num_rows=m, num_columns=n) to print more rows and columns.,\n",
              "  'rmse_overall': 1.1061563970422748},\n",
              " {'precision_recall_by_user': Columns:\n",
              "  \tuserId\tint\n",
              "  \tcutoff\tint\n",
              "  \tprecision\tfloat\n",
              "  \trecall\tfloat\n",
              "  \tcount\tint\n",
              "  \n",
              "  Rows: 26388\n",
              "  \n",
              "  Data:\n",
              "  +---------+--------+-----------+--------+-------+\n",
              "  |  userId | cutoff | precision | recall | count |\n",
              "  +---------+--------+-----------+--------+-------+\n",
              "  | 1516223 |   1    |    0.0    |  0.0   |   33  |\n",
              "  | 1516223 |   2    |    0.0    |  0.0   |   33  |\n",
              "  | 1516223 |   3    |    0.0    |  0.0   |   33  |\n",
              "  | 1516223 |   4    |    0.0    |  0.0   |   33  |\n",
              "  | 1516223 |   5    |    0.0    |  0.0   |   33  |\n",
              "  | 1516223 |   6    |    0.0    |  0.0   |   33  |\n",
              "  | 1516223 |   7    |    0.0    |  0.0   |   33  |\n",
              "  | 1516223 |   8    |    0.0    |  0.0   |   33  |\n",
              "  | 1516223 |   9    |    0.0    |  0.0   |   33  |\n",
              "  | 1516223 |   10   |    0.0    |  0.0   |   33  |\n",
              "  +---------+--------+-----------+--------+-------+\n",
              "  [26388 rows x 5 columns]\n",
              "  Note: Only the head of the SFrame is printed.\n",
              "  You can use print_rows(num_rows=m, num_columns=n) to print more rows and columns.,\n",
              "  'precision_recall_overall': Columns:\n",
              "  \tcutoff\tint\n",
              "  \tprecision\tfloat\n",
              "  \trecall\tfloat\n",
              "  \n",
              "  Rows: 18\n",
              "  \n",
              "  Data:\n",
              "  +--------+-----------------------+------------------------+\n",
              "  | cutoff |       precision       |         recall         |\n",
              "  +--------+-----------------------+------------------------+\n",
              "  |   1    |  0.010914051841746271 | 0.00048438559757127484 |\n",
              "  |   2    |  0.00886766712141882  | 0.0007355697409345008  |\n",
              "  |   3    |  0.007276034561164166 | 0.0008929252301992312  |\n",
              "  |   4    |  0.00716234652114598  |  0.001111300180270973  |\n",
              "  |   5    |  0.006412005457025919 | 0.0012429953093256066  |\n",
              "  |   6    |  0.006366530241018636 |  0.001515814246344587  |\n",
              "  |   7    | 0.0056519197037614485 | 0.0015754288152280782  |\n",
              "  |   8    |  0.005883356070941344 | 0.0018394449965377937  |\n",
              "  |   9    |  0.005760194027588297 |  0.002006901534153989  |\n",
              "  |   10   | 0.0054570259208731224 | 0.0021412759707004824  |\n",
              "  +--------+-----------------------+------------------------+\n",
              "  [18 rows x 3 columns]\n",
              "  Note: Only the head of the SFrame is printed.\n",
              "  You can use print_rows(num_rows=m, num_columns=n) to print more rows and columns.,\n",
              "  'rmse_by_item': Columns:\n",
              "  \tproductId\tint\n",
              "  \trmse\tfloat\n",
              "  \tcount\tint\n",
              "  \n",
              "  Rows: 20872\n",
              "  \n",
              "  Data:\n",
              "  +-----------+-------------------+-------+\n",
              "  | productId |        rmse       | count |\n",
              "  +-----------+-------------------+-------+\n",
              "  |   30459   | 4.358898943540674 |   3   |\n",
              "  |   316228  |        3.0        |   1   |\n",
              "  |   154577  |        2.0        |   1   |\n",
              "  |   374668  | 4.626013402488151 |   5   |\n",
              "  |   186667  | 4.358898943540674 |   3   |\n",
              "  |   434460  |  4.06201920231798 |   8   |\n",
              "  |   291756  |        5.0        |   1   |\n",
              "  |   448800  |        3.0        |   1   |\n",
              "  |   219673  |        4.0        |   1   |\n",
              "  |   248916  |        5.0        |   3   |\n",
              "  +-----------+-------------------+-------+\n",
              "  [20872 rows x 3 columns]\n",
              "  Note: Only the head of the SFrame is printed.\n",
              "  You can use print_rows(num_rows=m, num_columns=n) to print more rows and columns.,\n",
              "  'rmse_by_user': Columns:\n",
              "  \tuserId\tint\n",
              "  \trmse\tfloat\n",
              "  \tcount\tint\n",
              "  \n",
              "  Rows: 1466\n",
              "  \n",
              "  Data:\n",
              "  +---------+-------------------+-------+\n",
              "  |  userId |        rmse       | count |\n",
              "  +---------+-------------------+-------+\n",
              "  | 3089120 | 3.683978411966489 |   25  |\n",
              "  | 3345389 |        5.0        |   8   |\n",
              "  | 1218265 | 4.943429983321297 |   16  |\n",
              "  |  36205  | 4.377975178854565 |   18  |\n",
              "  |  688350 | 4.654746681256314 |   21  |\n",
              "  | 3810248 | 4.530939390976874 |   17  |\n",
              "  | 3931260 | 4.064494722738382 |   28  |\n",
              "  | 2443323 | 4.498580450696686 |   36  |\n",
              "  | 2084670 | 4.757768766592554 |   22  |\n",
              "  | 3281781 | 4.954342298776125 |   21  |\n",
              "  +---------+-------------------+-------+\n",
              "  [1466 rows x 3 columns]\n",
              "  Note: Only the head of the SFrame is printed.\n",
              "  You can use print_rows(num_rows=m, num_columns=n) to print more rows and columns.,\n",
              "  'rmse_overall': 4.39028681776448}]"
            ]
          },
          "metadata": {
            "tags": []
          },
          "execution_count": 29
        }
      ]
    },
    {
      "cell_type": "code",
      "metadata": {
        "id": "29W1_4ul-wdb",
        "colab_type": "code",
        "outputId": "c7a91e45-1b7b-4a17-eef7-c4c9adc25a2d",
        "colab": {
          "base_uri": "https://localhost:8080/",
          "height": 901
        }
      },
      "source": [
        "modelFactorization.evaluate_rmse(test_data,target='ratings')\n",
        "## RMSE = 2.404280864258169"
      ],
      "execution_count": 30,
      "outputs": [
        {
          "output_type": "execute_result",
          "data": {
            "text/plain": [
              "{'rmse_by_item': Columns:\n",
              " \tproductId\tint\n",
              " \trmse\tfloat\n",
              " \tcount\tint\n",
              " \n",
              " Rows: 20872\n",
              " \n",
              " Data:\n",
              " +-----------+---------------------+-------+\n",
              " | productId |         rmse        | count |\n",
              " +-----------+---------------------+-------+\n",
              " |   30459   |  2.546146151132721  |   3   |\n",
              " |   316228  |  0.7001904900082687 |   1   |\n",
              " |   154577  | 0.38549382042971647 |   1   |\n",
              " |   374668  |  2.3960295055510246 |   5   |\n",
              " |   186667  |  0.6119621904469573 |   3   |\n",
              " |   434460  |  1.9004481260004529 |   8   |\n",
              " |   291756  |  3.5452542285331825 |   1   |\n",
              " |   448800  |  1.2222686464795212 |   1   |\n",
              " |   219673  |  1.7904947454938034 |   1   |\n",
              " |   248916  |  2.3855673486026716 |   3   |\n",
              " +-----------+---------------------+-------+\n",
              " [20872 rows x 3 columns]\n",
              " Note: Only the head of the SFrame is printed.\n",
              " You can use print_rows(num_rows=m, num_columns=n) to print more rows and columns.,\n",
              " 'rmse_by_user': Columns:\n",
              " \tuserId\tint\n",
              " \trmse\tfloat\n",
              " \tcount\tint\n",
              " \n",
              " Rows: 1466\n",
              " \n",
              " Data:\n",
              " +---------+--------------------+-------+\n",
              " |  userId |        rmse        | count |\n",
              " +---------+--------------------+-------+\n",
              " | 3089120 | 1.3919465720999575 |   25  |\n",
              " | 3345389 | 1.6062633358001417 |   8   |\n",
              " | 1218265 | 2.204312031426901  |   16  |\n",
              " |  36205  | 2.0926557134196058 |   18  |\n",
              " |  688350 | 2.7188190607632268 |   21  |\n",
              " | 3810248 | 1.9629867495135798 |   17  |\n",
              " | 3931260 | 2.2996754504513555 |   28  |\n",
              " | 2443323 | 2.7231711364473186 |   36  |\n",
              " | 2084670 | 2.308726310909817  |   22  |\n",
              " | 3281781 | 1.9796559084669587 |   21  |\n",
              " +---------+--------------------+-------+\n",
              " [1466 rows x 3 columns]\n",
              " Note: Only the head of the SFrame is printed.\n",
              " You can use print_rows(num_rows=m, num_columns=n) to print more rows and columns.,\n",
              " 'rmse_overall': 2.4068879404801713}"
            ]
          },
          "metadata": {
            "tags": []
          },
          "execution_count": 30
        }
      ]
    },
    {
      "cell_type": "markdown",
      "metadata": {
        "id": "uo5s-eCe_epB",
        "colab_type": "text"
      },
      "source": [
        "### 7. Get top - K ( K = 5) recommendations. Since our goal is to recommend new products to each user based on his/her habits, we will recommend 5 new products."
      ]
    },
    {
      "cell_type": "code",
      "metadata": {
        "id": "4-yERVWD_jgo",
        "colab_type": "code",
        "outputId": "c6dc26c7-2a8a-404b-c569-52ed1b8b84ad",
        "colab": {
          "base_uri": "https://localhost:8080/",
          "height": 1000
        }
      },
      "source": [
        "#Making recommendations for users in test data\n",
        "item_sim_recomm = item_sim_model.recommend(users=test_data['userId'],k=5)\n",
        "item_sim_recomm.print_rows(num_rows=25)"
      ],
      "execution_count": 31,
      "outputs": [
        {
          "output_type": "display_data",
          "data": {
            "text/html": [
              "<pre>recommendations finished on 1000/36652 queries. users per second: 2208.01</pre>"
            ],
            "text/plain": [
              "recommendations finished on 1000/36652 queries. users per second: 2208.01"
            ]
          },
          "metadata": {
            "tags": []
          }
        },
        {
          "output_type": "display_data",
          "data": {
            "text/html": [
              "<pre>recommendations finished on 2000/36652 queries. users per second: 2300.68</pre>"
            ],
            "text/plain": [
              "recommendations finished on 2000/36652 queries. users per second: 2300.68"
            ]
          },
          "metadata": {
            "tags": []
          }
        },
        {
          "output_type": "display_data",
          "data": {
            "text/html": [
              "<pre>recommendations finished on 3000/36652 queries. users per second: 2328.65</pre>"
            ],
            "text/plain": [
              "recommendations finished on 3000/36652 queries. users per second: 2328.65"
            ]
          },
          "metadata": {
            "tags": []
          }
        },
        {
          "output_type": "display_data",
          "data": {
            "text/html": [
              "<pre>recommendations finished on 4000/36652 queries. users per second: 2345.68</pre>"
            ],
            "text/plain": [
              "recommendations finished on 4000/36652 queries. users per second: 2345.68"
            ]
          },
          "metadata": {
            "tags": []
          }
        },
        {
          "output_type": "display_data",
          "data": {
            "text/html": [
              "<pre>recommendations finished on 5000/36652 queries. users per second: 2357.62</pre>"
            ],
            "text/plain": [
              "recommendations finished on 5000/36652 queries. users per second: 2357.62"
            ]
          },
          "metadata": {
            "tags": []
          }
        },
        {
          "output_type": "display_data",
          "data": {
            "text/html": [
              "<pre>recommendations finished on 6000/36652 queries. users per second: 2369.85</pre>"
            ],
            "text/plain": [
              "recommendations finished on 6000/36652 queries. users per second: 2369.85"
            ]
          },
          "metadata": {
            "tags": []
          }
        },
        {
          "output_type": "display_data",
          "data": {
            "text/html": [
              "<pre>recommendations finished on 7000/36652 queries. users per second: 2366.76</pre>"
            ],
            "text/plain": [
              "recommendations finished on 7000/36652 queries. users per second: 2366.76"
            ]
          },
          "metadata": {
            "tags": []
          }
        },
        {
          "output_type": "display_data",
          "data": {
            "text/html": [
              "<pre>recommendations finished on 8000/36652 queries. users per second: 2369.77</pre>"
            ],
            "text/plain": [
              "recommendations finished on 8000/36652 queries. users per second: 2369.77"
            ]
          },
          "metadata": {
            "tags": []
          }
        },
        {
          "output_type": "display_data",
          "data": {
            "text/html": [
              "<pre>recommendations finished on 9000/36652 queries. users per second: 2371.25</pre>"
            ],
            "text/plain": [
              "recommendations finished on 9000/36652 queries. users per second: 2371.25"
            ]
          },
          "metadata": {
            "tags": []
          }
        },
        {
          "output_type": "display_data",
          "data": {
            "text/html": [
              "<pre>recommendations finished on 10000/36652 queries. users per second: 2372.34</pre>"
            ],
            "text/plain": [
              "recommendations finished on 10000/36652 queries. users per second: 2372.34"
            ]
          },
          "metadata": {
            "tags": []
          }
        },
        {
          "output_type": "display_data",
          "data": {
            "text/html": [
              "<pre>recommendations finished on 11000/36652 queries. users per second: 2375.06</pre>"
            ],
            "text/plain": [
              "recommendations finished on 11000/36652 queries. users per second: 2375.06"
            ]
          },
          "metadata": {
            "tags": []
          }
        },
        {
          "output_type": "display_data",
          "data": {
            "text/html": [
              "<pre>recommendations finished on 12000/36652 queries. users per second: 2376.83</pre>"
            ],
            "text/plain": [
              "recommendations finished on 12000/36652 queries. users per second: 2376.83"
            ]
          },
          "metadata": {
            "tags": []
          }
        },
        {
          "output_type": "display_data",
          "data": {
            "text/html": [
              "<pre>recommendations finished on 13000/36652 queries. users per second: 2377.69</pre>"
            ],
            "text/plain": [
              "recommendations finished on 13000/36652 queries. users per second: 2377.69"
            ]
          },
          "metadata": {
            "tags": []
          }
        },
        {
          "output_type": "display_data",
          "data": {
            "text/html": [
              "<pre>recommendations finished on 14000/36652 queries. users per second: 2380.66</pre>"
            ],
            "text/plain": [
              "recommendations finished on 14000/36652 queries. users per second: 2380.66"
            ]
          },
          "metadata": {
            "tags": []
          }
        },
        {
          "output_type": "display_data",
          "data": {
            "text/html": [
              "<pre>recommendations finished on 15000/36652 queries. users per second: 2380.68</pre>"
            ],
            "text/plain": [
              "recommendations finished on 15000/36652 queries. users per second: 2380.68"
            ]
          },
          "metadata": {
            "tags": []
          }
        },
        {
          "output_type": "display_data",
          "data": {
            "text/html": [
              "<pre>recommendations finished on 16000/36652 queries. users per second: 2382.1</pre>"
            ],
            "text/plain": [
              "recommendations finished on 16000/36652 queries. users per second: 2382.1"
            ]
          },
          "metadata": {
            "tags": []
          }
        },
        {
          "output_type": "display_data",
          "data": {
            "text/html": [
              "<pre>recommendations finished on 17000/36652 queries. users per second: 2383.3</pre>"
            ],
            "text/plain": [
              "recommendations finished on 17000/36652 queries. users per second: 2383.3"
            ]
          },
          "metadata": {
            "tags": []
          }
        },
        {
          "output_type": "display_data",
          "data": {
            "text/html": [
              "<pre>recommendations finished on 18000/36652 queries. users per second: 2384.04</pre>"
            ],
            "text/plain": [
              "recommendations finished on 18000/36652 queries. users per second: 2384.04"
            ]
          },
          "metadata": {
            "tags": []
          }
        },
        {
          "output_type": "display_data",
          "data": {
            "text/html": [
              "<pre>recommendations finished on 19000/36652 queries. users per second: 2385.58</pre>"
            ],
            "text/plain": [
              "recommendations finished on 19000/36652 queries. users per second: 2385.58"
            ]
          },
          "metadata": {
            "tags": []
          }
        },
        {
          "output_type": "display_data",
          "data": {
            "text/html": [
              "<pre>recommendations finished on 20000/36652 queries. users per second: 2386.39</pre>"
            ],
            "text/plain": [
              "recommendations finished on 20000/36652 queries. users per second: 2386.39"
            ]
          },
          "metadata": {
            "tags": []
          }
        },
        {
          "output_type": "display_data",
          "data": {
            "text/html": [
              "<pre>recommendations finished on 21000/36652 queries. users per second: 2387.24</pre>"
            ],
            "text/plain": [
              "recommendations finished on 21000/36652 queries. users per second: 2387.24"
            ]
          },
          "metadata": {
            "tags": []
          }
        },
        {
          "output_type": "display_data",
          "data": {
            "text/html": [
              "<pre>recommendations finished on 22000/36652 queries. users per second: 2387.14</pre>"
            ],
            "text/plain": [
              "recommendations finished on 22000/36652 queries. users per second: 2387.14"
            ]
          },
          "metadata": {
            "tags": []
          }
        },
        {
          "output_type": "display_data",
          "data": {
            "text/html": [
              "<pre>recommendations finished on 23000/36652 queries. users per second: 2387.97</pre>"
            ],
            "text/plain": [
              "recommendations finished on 23000/36652 queries. users per second: 2387.97"
            ]
          },
          "metadata": {
            "tags": []
          }
        },
        {
          "output_type": "display_data",
          "data": {
            "text/html": [
              "<pre>recommendations finished on 24000/36652 queries. users per second: 2387.64</pre>"
            ],
            "text/plain": [
              "recommendations finished on 24000/36652 queries. users per second: 2387.64"
            ]
          },
          "metadata": {
            "tags": []
          }
        },
        {
          "output_type": "display_data",
          "data": {
            "text/html": [
              "<pre>recommendations finished on 25000/36652 queries. users per second: 2389.14</pre>"
            ],
            "text/plain": [
              "recommendations finished on 25000/36652 queries. users per second: 2389.14"
            ]
          },
          "metadata": {
            "tags": []
          }
        },
        {
          "output_type": "display_data",
          "data": {
            "text/html": [
              "<pre>recommendations finished on 26000/36652 queries. users per second: 2385.07</pre>"
            ],
            "text/plain": [
              "recommendations finished on 26000/36652 queries. users per second: 2385.07"
            ]
          },
          "metadata": {
            "tags": []
          }
        },
        {
          "output_type": "display_data",
          "data": {
            "text/html": [
              "<pre>recommendations finished on 27000/36652 queries. users per second: 2386.25</pre>"
            ],
            "text/plain": [
              "recommendations finished on 27000/36652 queries. users per second: 2386.25"
            ]
          },
          "metadata": {
            "tags": []
          }
        },
        {
          "output_type": "display_data",
          "data": {
            "text/html": [
              "<pre>recommendations finished on 28000/36652 queries. users per second: 2386.73</pre>"
            ],
            "text/plain": [
              "recommendations finished on 28000/36652 queries. users per second: 2386.73"
            ]
          },
          "metadata": {
            "tags": []
          }
        },
        {
          "output_type": "display_data",
          "data": {
            "text/html": [
              "<pre>recommendations finished on 29000/36652 queries. users per second: 2386.5</pre>"
            ],
            "text/plain": [
              "recommendations finished on 29000/36652 queries. users per second: 2386.5"
            ]
          },
          "metadata": {
            "tags": []
          }
        },
        {
          "output_type": "display_data",
          "data": {
            "text/html": [
              "<pre>recommendations finished on 30000/36652 queries. users per second: 2387.64</pre>"
            ],
            "text/plain": [
              "recommendations finished on 30000/36652 queries. users per second: 2387.64"
            ]
          },
          "metadata": {
            "tags": []
          }
        },
        {
          "output_type": "display_data",
          "data": {
            "text/html": [
              "<pre>recommendations finished on 31000/36652 queries. users per second: 2388.43</pre>"
            ],
            "text/plain": [
              "recommendations finished on 31000/36652 queries. users per second: 2388.43"
            ]
          },
          "metadata": {
            "tags": []
          }
        },
        {
          "output_type": "display_data",
          "data": {
            "text/html": [
              "<pre>recommendations finished on 32000/36652 queries. users per second: 2389.34</pre>"
            ],
            "text/plain": [
              "recommendations finished on 32000/36652 queries. users per second: 2389.34"
            ]
          },
          "metadata": {
            "tags": []
          }
        },
        {
          "output_type": "display_data",
          "data": {
            "text/html": [
              "<pre>recommendations finished on 33000/36652 queries. users per second: 2388.4</pre>"
            ],
            "text/plain": [
              "recommendations finished on 33000/36652 queries. users per second: 2388.4"
            ]
          },
          "metadata": {
            "tags": []
          }
        },
        {
          "output_type": "display_data",
          "data": {
            "text/html": [
              "<pre>recommendations finished on 34000/36652 queries. users per second: 2389.92</pre>"
            ],
            "text/plain": [
              "recommendations finished on 34000/36652 queries. users per second: 2389.92"
            ]
          },
          "metadata": {
            "tags": []
          }
        },
        {
          "output_type": "display_data",
          "data": {
            "text/html": [
              "<pre>recommendations finished on 35000/36652 queries. users per second: 2389.51</pre>"
            ],
            "text/plain": [
              "recommendations finished on 35000/36652 queries. users per second: 2389.51"
            ]
          },
          "metadata": {
            "tags": []
          }
        },
        {
          "output_type": "display_data",
          "data": {
            "text/html": [
              "<pre>recommendations finished on 36000/36652 queries. users per second: 2390.43</pre>"
            ],
            "text/plain": [
              "recommendations finished on 36000/36652 queries. users per second: 2390.43"
            ]
          },
          "metadata": {
            "tags": []
          }
        },
        {
          "output_type": "stream",
          "text": [
            "+---------+-----------+---------------------+------+\n",
            "|  userId | productId |        score        | rank |\n",
            "+---------+-----------+---------------------+------+\n",
            "| 4010661 |    8662   | 0.06510125224788983 |  1   |\n",
            "| 4010661 |   16549   | 0.06510125224788983 |  2   |\n",
            "| 4010661 |   18924   | 0.05942097927133242 |  3   |\n",
            "| 4010661 |   265389  | 0.05942097927133242 |  4   |\n",
            "| 4010661 |   13387   | 0.05942097927133242 |  5   |\n",
            "| 2396828 |   105171  | 0.16312253636282845 |  1   |\n",
            "| 2396828 |   194713  | 0.16312253636282845 |  2   |\n",
            "| 2396828 |   156514  | 0.16312253636282845 |  3   |\n",
            "| 2396828 |   129768  | 0.16312253636282845 |  4   |\n",
            "| 2396828 |   99691   | 0.16312253636282845 |  5   |\n",
            "| 1171266 |   176830  | 0.06006683294589703 |  1   |\n",
            "| 1171266 |   43629   | 0.06006683294589703 |  2   |\n",
            "| 1171266 |    9393   | 0.06006683294589703 |  3   |\n",
            "| 1171266 |   355448  | 0.06006683294589703 |  4   |\n",
            "| 1171266 |   39187   | 0.06006683294589703 |  5   |\n",
            "| 3849268 |   366535  | 0.11353103816509247 |  1   |\n",
            "| 3849268 |   51768   | 0.11353103816509247 |  2   |\n",
            "| 3849268 |   133423  | 0.09244665503501892 |  3   |\n",
            "| 3849268 |   72281   | 0.09244665503501892 |  4   |\n",
            "| 3849268 |   43458   | 0.09244665503501892 |  5   |\n",
            "| 1294183 |   96767   | 0.08070612935458912 |  1   |\n",
            "| 1294183 |   243064  | 0.06925761629553402 |  2   |\n",
            "| 1294183 |   237821  | 0.06925761629553402 |  3   |\n",
            "| 1294183 |   282139  | 0.06925761629553402 |  4   |\n",
            "| 1294183 |   456898  | 0.06925761629553402 |  5   |\n",
            "+---------+-----------+---------------------+------+\n",
            "[183260 rows x 4 columns]\n",
            "\n"
          ],
          "name": "stdout"
        }
      ]
    },
    {
      "cell_type": "code",
      "metadata": {
        "id": "3ZFdbymMBHkB",
        "colab_type": "code",
        "colab": {}
      },
      "source": [
        ""
      ],
      "execution_count": 0,
      "outputs": []
    },
    {
      "cell_type": "code",
      "metadata": {
        "id": "ZilG1ig1J_6R",
        "colab_type": "code",
        "outputId": "8749347e-7bed-45b0-8995-449a37791405",
        "colab": {
          "base_uri": "https://localhost:8080/",
          "height": 555
        }
      },
      "source": [
        "results.print_rows(num_rows=25) #On the basis of Factorization based recommendation which takes into account the latent factors as well"
      ],
      "execution_count": 32,
      "outputs": [
        {
          "output_type": "stream",
          "text": [
            "+---------+-----------+--------------------+------+\n",
            "|  userId | productId |       score        | rank |\n",
            "+---------+-----------+--------------------+------+\n",
            "| 1516223 |   442162  | 6.830225164174165  |  1   |\n",
            "| 1516223 |   75940   | 6.638492280720796  |  2   |\n",
            "| 1516223 |   308474  | 6.510527784108247  |  3   |\n",
            "| 1516223 |   80597   | 6.185924703358736  |  4   |\n",
            "| 1516223 |   332275  | 5.986607248066988  |  5   |\n",
            "| 1842446 |   161069  | 6.249598438023653  |  1   |\n",
            "| 1842446 |   20140   | 5.9746650998583695 |  2   |\n",
            "| 1842446 |   274153  | 5.901787692784395  |  3   |\n",
            "| 1842446 |   188012  | 5.757479602574434  |  4   |\n",
            "| 1842446 |   332275  | 5.744718009709444  |  5   |\n",
            "|  392311 |   186075  | 6.4703376834383866 |  1   |\n",
            "|  392311 |   201068  | 5.899995857953157  |  2   |\n",
            "|  392311 |   17379   | 5.861920649289217  |  3   |\n",
            "|  392311 |   303608  | 5.6421773974886795 |  4   |\n",
            "|  392311 |   415424  | 5.626698548077669  |  5   |\n",
            "|  810161 |   205491  | 5.661533648251619  |  1   |\n",
            "|  810161 |   178813  | 5.649702603100862  |  2   |\n",
            "|  810161 |   225374  | 5.6119835917940994 |  3   |\n",
            "|  810161 |   157798  | 5.601215178250398  |  4   |\n",
            "|  810161 |   20896   | 5.592515284298982  |  5   |\n",
            "| 3866015 |   83890   | 6.5412663762560745 |  1   |\n",
            "| 3866015 |   275003  | 6.151200467824068  |  2   |\n",
            "| 3866015 |   88596   | 5.9632751290789505 |  3   |\n",
            "| 3866015 |   219320  | 5.893622571705904  |  4   |\n",
            "| 3866015 |   274153  |  5.82762067961606  |  5   |\n",
            "+---------+-----------+--------------------+------+\n",
            "[7330 rows x 4 columns]\n",
            "\n"
          ],
          "name": "stdout"
        }
      ]
    },
    {
      "cell_type": "markdown",
      "metadata": {
        "id": "oXZHIBcmKGkx",
        "colab_type": "text"
      },
      "source": [
        "### 8. Summarise your insights."
      ]
    },
    {
      "cell_type": "markdown",
      "metadata": {
        "id": "X-DzejzHjvhF",
        "colab_type": "text"
      },
      "source": [
        "#### *As we can see above, 5 unique products are suggested for each user with collaborative filtering model ,i.e., personalized product for each user. Whereas,with popularity based model we were getting same output for each user, i.e., data is good for a cold start(when there is no data available for user). The RMSE for Factorization Recommender is far better than Item-Item based collabaorative filtering model. The interpretability is missing from factorization method.*"
      ]
    }
  ]
}