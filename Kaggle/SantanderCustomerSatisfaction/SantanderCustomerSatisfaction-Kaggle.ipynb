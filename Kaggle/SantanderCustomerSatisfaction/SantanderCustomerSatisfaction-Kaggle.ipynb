{
 "cells": [
  {
   "cell_type": "markdown",
   "metadata": {},
   "source": [
    "### Import Libraries"
   ]
  },
  {
   "cell_type": "code",
   "execution_count": 588,
   "metadata": {},
   "outputs": [],
   "source": [
    "import pandas as pd\n",
    "import numpy as np\n",
    "from sklearn.model_selection import train_test_split\n",
    "from sklearn.linear_model import LogisticRegression\n",
    "from sklearn.model_selection import GridSearchCV\n",
    "from sklearn.decomposition import PCA\n",
    "from sklearn.metrics import roc_auc_score\n",
    "from sklearn.preprocessing import normalize"
   ]
  },
  {
   "cell_type": "markdown",
   "metadata": {},
   "source": [
    "### Read the data"
   ]
  },
  {
   "cell_type": "code",
   "execution_count": 589,
   "metadata": {},
   "outputs": [
    {
     "data": {
      "text/plain": [
       "(76020, 371)"
      ]
     },
     "execution_count": 589,
     "metadata": {},
     "output_type": "execute_result"
    }
   ],
   "source": [
    "train_df_orig = pd.read_csv('train.csv')\n",
    "train_df_orig.shape"
   ]
  },
  {
   "cell_type": "code",
   "execution_count": 590,
   "metadata": {},
   "outputs": [
    {
     "data": {
      "text/plain": [
       "(75818, 370)"
      ]
     },
     "execution_count": 590,
     "metadata": {},
     "output_type": "execute_result"
    }
   ],
   "source": [
    "test_df_orig = pd.read_csv('test.csv')\n",
    "test_df_orig.shape"
   ]
  },
  {
   "cell_type": "code",
   "execution_count": 591,
   "metadata": {},
   "outputs": [
    {
     "name": "stdout",
     "output_type": "stream",
     "text": [
      "<class 'pandas.core.frame.DataFrame'>\n",
      "RangeIndex: 76020 entries, 0 to 76019\n",
      "Columns: 371 entries, ID to TARGET\n",
      "dtypes: float64(111), int64(260)\n",
      "memory usage: 215.2 MB\n"
     ]
    }
   ],
   "source": [
    "train_df_orig.info()\n",
    "# 371 columns\n",
    "# Type is int or float"
   ]
  },
  {
   "cell_type": "code",
   "execution_count": 592,
   "metadata": {},
   "outputs": [],
   "source": [
    "# remove ID column as is of no use \n",
    "test_id = test_df_orig['ID']\n",
    "test_df_new = test_df_orig.drop([\"ID\"],axis=1)\n",
    "train_df_orig = train_df_orig.drop(['ID'], axis=1)"
   ]
  },
  {
   "cell_type": "markdown",
   "metadata": {},
   "source": [
    "### Target column analysis"
   ]
  },
  {
   "cell_type": "code",
   "execution_count": 593,
   "metadata": {},
   "outputs": [
    {
     "data": {
      "text/plain": [
       "0    73012\n",
       "1     3008\n",
       "Name: TARGET, dtype: int64"
      ]
     },
     "execution_count": 593,
     "metadata": {},
     "output_type": "execute_result"
    }
   ],
   "source": [
    "train_df_orig.TARGET.value_counts()"
   ]
  },
  {
   "cell_type": "code",
   "execution_count": 594,
   "metadata": {},
   "outputs": [
    {
     "name": "stdout",
     "output_type": "stream",
     "text": [
      "percentage of 1 is:  3.9568534596158904\n",
      "percentage of 0 is:  96.04314654038411\n"
     ]
    }
   ],
   "source": [
    "print('percentage of 1 is: ',100*len(train_df_orig[train_df_orig['TARGET']==1]['TARGET'])/len(train_df_orig['TARGET']))\n",
    "print('percentage of 0 is: ',100*len(train_df_orig[train_df_orig['TARGET']==0]['TARGET'])/len(train_df_orig['TARGET']))"
   ]
  },
  {
   "cell_type": "markdown",
   "metadata": {},
   "source": [
    "### Remove Outliers"
   ]
  },
  {
   "cell_type": "code",
   "execution_count": 595,
   "metadata": {},
   "outputs": [],
   "source": [
    "# Not using this as it ends up removing more than 50% of data\n",
    "# Q1 = train_df_orig.quantile(0.25)\n",
    "# Q3 = train_df_orig.quantile(0.75)\n",
    "# IQR = Q3 - Q1\n",
    "# print(IQR)\n",
    "# train_df_temp = train_df_orig[~((train_df_orig < (Q1 - 1.5 * IQR)) |(train_df_orig > (Q3 + 1.5 * IQR))).any(axis=1)]\n",
    "# print(train_df_temp.shape)"
   ]
  },
  {
   "cell_type": "markdown",
   "metadata": {},
   "source": [
    "### Feature Extraction"
   ]
  },
  {
   "cell_type": "markdown",
   "metadata": {},
   "source": [
    "#### Remove Duplicate, Consant Features "
   ]
  },
  {
   "cell_type": "code",
   "execution_count": 596,
   "metadata": {},
   "outputs": [
    {
     "name": "stdout",
     "output_type": "stream",
     "text": [
      "34\n"
     ]
    }
   ],
   "source": [
    "# remove constant columns (std = 0)\n",
    "remove = []\n",
    "for col in train_df_orig.columns:\n",
    "    if train_df_orig[col].std() == 0:\n",
    "        remove.append(col)\n",
    "print(len(remove))\n",
    "train_df_orig.drop(remove, axis=1, inplace=True)\n",
    "test_df_orig.drop(remove, axis=1, inplace=True)"
   ]
  },
  {
   "cell_type": "code",
   "execution_count": 597,
   "metadata": {},
   "outputs": [
    {
     "name": "stdout",
     "output_type": "stream",
     "text": [
      "29\n"
     ]
    }
   ],
   "source": [
    "# remove duplicated columns\n",
    "remove_duplicates = []\n",
    "cols = train_df_orig.columns\n",
    "for i in range(len(cols)-1):\n",
    "    v = train_df_orig[cols[i]].values\n",
    "    for j in range(i+1,len(cols)):\n",
    "        if np.array_equal(v,train_df_orig[cols[j]].values):\n",
    "            remove_duplicates.append(cols[j])\n",
    "print(len(remove_duplicates))\n",
    "train_df_orig.drop(remove_duplicates, axis=1, inplace=True)\n",
    "test_df_orig.drop(remove_duplicates, axis=1, inplace=True)"
   ]
  },
  {
   "cell_type": "markdown",
   "metadata": {},
   "source": [
    "#### Correlation between features"
   ]
  },
  {
   "cell_type": "code",
   "execution_count": 598,
   "metadata": {},
   "outputs": [
    {
     "data": {
      "text/plain": [
       "Index(['var3', 'var15', 'imp_ent_var16_ult1', 'imp_op_var39_comer_ult1',\n",
       "       'imp_op_var39_comer_ult3', 'imp_op_var40_comer_ult1',\n",
       "       'imp_op_var40_comer_ult3', 'imp_op_var40_efect_ult1',\n",
       "       'imp_op_var40_efect_ult3', 'imp_op_var40_ult1',\n",
       "       ...\n",
       "       'saldo_medio_var13_largo_hace2', 'saldo_medio_var13_largo_hace3',\n",
       "       'saldo_medio_var29_hace2', 'saldo_medio_var29_hace3',\n",
       "       'saldo_medio_var33_hace2', 'saldo_medio_var33_hace3',\n",
       "       'saldo_medio_var44_hace2', 'saldo_medio_var44_hace3', 'var38',\n",
       "       'TARGET'],\n",
       "      dtype='object', length=170)"
      ]
     },
     "execution_count": 598,
     "metadata": {},
     "output_type": "execute_result"
    }
   ],
   "source": [
    "# compare the correlation between features and remove one of two features that have a correlation higher than 0.9\n",
    "import numpy as np\n",
    "corr = abs(train_df_orig.corr())\n",
    "columns = np.full((corr.shape[0],), True, dtype=bool)\n",
    "for i in range(corr.shape[0]):\n",
    "    for j in range(i+1, corr.shape[0]):\n",
    "        if corr.iloc[i,j] >= 0.9:\n",
    "            if columns[j]:\n",
    "                columns[j] = False\n",
    "selected_columns = train_df_orig.columns[columns]\n",
    "selected_columns"
   ]
  },
  {
   "cell_type": "code",
   "execution_count": 599,
   "metadata": {},
   "outputs": [
    {
     "name": "stdout",
     "output_type": "stream",
     "text": [
      "114\n"
     ]
    },
    {
     "data": {
      "text/plain": [
       "Index(['var15', 'imp_op_var39_comer_ult1', 'imp_op_var40_efect_ult1',\n",
       "       'imp_op_var40_efect_ult3', 'imp_op_var41_comer_ult1',\n",
       "       'imp_op_var41_efect_ult1', 'imp_op_var41_efect_ult3',\n",
       "       'imp_op_var41_ult1', 'imp_op_var39_efect_ult1',\n",
       "       'imp_op_var39_efect_ult3',\n",
       "       ...\n",
       "       'saldo_medio_var12_ult3', 'saldo_medio_var13_corto_hace2',\n",
       "       'saldo_medio_var13_corto_hace3', 'saldo_medio_var13_corto_ult1',\n",
       "       'saldo_medio_var13_corto_ult3', 'saldo_medio_var13_largo_hace2',\n",
       "       'saldo_medio_var13_largo_ult1', 'saldo_medio_var13_largo_ult3', 'var38',\n",
       "       'TARGET'],\n",
       "      dtype='object', length=114)"
      ]
     },
     "execution_count": 599,
     "metadata": {},
     "output_type": "execute_result"
    }
   ],
   "source": [
    "#Correlation with output variable\n",
    "cor_target = (corr[\"TARGET\"])\n",
    "#Selecting highly correlated features\n",
    "relevant_features = cor_target[cor_target>0.01]\n",
    "print(len(relevant_features))\n",
    "relevant_features.index\n",
    "\n",
    "#No correlation with the target variable found"
   ]
  },
  {
   "cell_type": "code",
   "execution_count": 600,
   "metadata": {},
   "outputs": [],
   "source": [
    "# Assigning important correlated features to a new dataframe\n",
    "# Common important features\n",
    "final_features= pd.Series(list(set(selected_columns).intersection(set(relevant_features.index))))\n",
    "train_df_new = train_df_orig[final_features]"
   ]
  },
  {
   "cell_type": "code",
   "execution_count": 601,
   "metadata": {},
   "outputs": [],
   "source": [
    "# Removing target column for test data\n",
    "final_features = final_features.drop(final_features[final_features.isin(['TARGET']) == True].index)"
   ]
  },
  {
   "cell_type": "code",
   "execution_count": 602,
   "metadata": {},
   "outputs": [
    {
     "data": {
      "text/plain": [
       "(76020, 62)"
      ]
     },
     "execution_count": 602,
     "metadata": {},
     "output_type": "execute_result"
    }
   ],
   "source": [
    "train_df_new.shape"
   ]
  },
  {
   "cell_type": "code",
   "execution_count": 603,
   "metadata": {},
   "outputs": [
    {
     "data": {
      "text/plain": [
       "(75818, 61)"
      ]
     },
     "execution_count": 603,
     "metadata": {},
     "output_type": "execute_result"
    }
   ],
   "source": [
    "test_df_new = test_df_orig[final_features]\n",
    "test_df_new.shape"
   ]
  },
  {
   "cell_type": "markdown",
   "metadata": {},
   "source": [
    "### Scale Data"
   ]
  },
  {
   "cell_type": "code",
   "execution_count": 604,
   "metadata": {},
   "outputs": [],
   "source": [
    "# # Scale the train data\n",
    "# from sklearn.preprocessing import StandardScaler\n",
    "# scaler = StandardScaler()\n",
    "\n",
    "# Storing data in target and independent variables\n",
    "\n",
    "y = train_df_new[\"TARGET\"] #target variable\n",
    "X = train_df_new.drop([\"TARGET\"],axis=1) #independent variables\n",
    "\n",
    "# # Fit on training set only.\n",
    "# scaler.fit(X)\n",
    "# # Apply transform to both the training set and the test set.\n",
    "# X = scaler.transform(X)"
   ]
  },
  {
   "cell_type": "code",
   "execution_count": 605,
   "metadata": {},
   "outputs": [
    {
     "data": {
      "text/plain": [
       "pandas.core.frame.DataFrame"
      ]
     },
     "execution_count": 605,
     "metadata": {},
     "output_type": "execute_result"
    }
   ],
   "source": [
    "type(X)"
   ]
  },
  {
   "cell_type": "code",
   "execution_count": 606,
   "metadata": {},
   "outputs": [],
   "source": [
    "# # Scale the test data\n",
    "# test_df_new = scaler.transform(test_df_new)"
   ]
  },
  {
   "cell_type": "code",
   "execution_count": 607,
   "metadata": {},
   "outputs": [
    {
     "data": {
      "image/png": "[encoded data removed]",
      "text/plain": [
       "<Figure size 432x288 with 1 Axes>"
      ]
     },
     "metadata": {
      "needs_background": "light"
     },
     "output_type": "display_data"
    }
   ],
   "source": [
    "# using PCA to reduce the number of columns\n",
    "import matplotlib.pyplot as plt\n",
    "%matplotlib inline\n",
    "plt.plot(np.cumsum(PCA().fit(X).explained_variance_ratio_))\n",
    "plt.xlabel('number of components')\n",
    "plt.ylabel('cumulative explained variance');"
   ]
  },
  {
   "cell_type": "code",
   "execution_count": 608,
   "metadata": {},
   "outputs": [
    {
     "name": "stdout",
     "output_type": "stream",
     "text": [
      "76020\n",
      "Shape of Train data:  (76020, 64)\n",
      "Shape of test data:  (75818, 64)\n"
     ]
    },
    {
     "name": "stderr",
     "output_type": "stream",
     "text": [
      "C:\\Users\\abhishekbhardwaj01\\AppData\\Local\\Continuum\\anaconda3\\lib\\site-packages\\ipykernel_launcher.py:22: SettingWithCopyWarning: \n",
      "A value is trying to be set on a copy of a slice from a DataFrame.\n",
      "Try using .loc[row_indexer,col_indexer] = value instead\n",
      "\n",
      "See the caveats in the documentation: http://pandas.pydata.org/pandas-docs/stable/user_guide/indexing.html#returning-a-view-versus-a-copy\n",
      "C:\\Users\\abhishekbhardwaj01\\AppData\\Local\\Continuum\\anaconda3\\lib\\site-packages\\ipykernel_launcher.py:23: SettingWithCopyWarning: \n",
      "A value is trying to be set on a copy of a slice from a DataFrame.\n",
      "Try using .loc[row_indexer,col_indexer] = value instead\n",
      "\n",
      "See the caveats in the documentation: http://pandas.pydata.org/pandas-docs/stable/user_guide/indexing.html#returning-a-view-versus-a-copy\n",
      "C:\\Users\\abhishekbhardwaj01\\AppData\\Local\\Continuum\\anaconda3\\lib\\site-packages\\ipykernel_launcher.py:24: SettingWithCopyWarning: \n",
      "A value is trying to be set on a copy of a slice from a DataFrame.\n",
      "Try using .loc[row_indexer,col_indexer] = value instead\n",
      "\n",
      "See the caveats in the documentation: http://pandas.pydata.org/pandas-docs/stable/user_guide/indexing.html#returning-a-view-versus-a-copy\n"
     ]
    }
   ],
   "source": [
    "# # Make an instance of the PCA Model, keeping 95% of variation\n",
    "# pca = PCA(.95)\n",
    "# pca.fit(X_train)\n",
    "# X_train_new = pca.transform(X_train)\n",
    "# X_test_new = pca.transform(X_test)\n",
    "\n",
    "# #Apply PCA on test data\n",
    "# test_df_new = pca.transform(test_df_new)\n",
    "\n",
    "# Add PCA components as features\n",
    "def addPCAfeatures():\n",
    "    X_normalized = normalize(X, axis=0)\n",
    "    test_normalized= normalize(test_df_new, axis=0)\n",
    "    pca = PCA(n_components=3)\n",
    "    X_pca = pca.fit_transform(X_normalized)\n",
    "    test_pca=pca.fit_transform(test_normalized)\n",
    "    print(len(X_pca[:,0]))\n",
    "    X['PCA1'] = X_pca[:,0]\n",
    "    X['PCA2'] = X_pca[:,1]\n",
    "    X['PCA3'] = X_pca[:,2]\n",
    "\n",
    "    test_df_new['PCA1'] = test_pca[:,0]\n",
    "    test_df_new['PCA2'] = test_pca[:,1]\n",
    "    test_df_new['PCA3'] = test_pca[:,2]\n",
    "\n",
    "    \n",
    "addPCAfeatures()    \n",
    "\n",
    "print('Shape of Train data: ', X.shape)\n",
    "print('Shape of test data: ',test_df_new.shape)"
   ]
  },
  {
   "cell_type": "code",
   "execution_count": 582,
   "metadata": {},
   "outputs": [],
   "source": [
    "X_train, X_test, y_train, y_test = train_test_split(X, y, test_size=0.20, random_state=1,)"
   ]
  },
  {
   "cell_type": "code",
   "execution_count": 583,
   "metadata": {},
   "outputs": [
    {
     "data": {
      "text/plain": [
       "((60816, 64), (60816,))"
      ]
     },
     "execution_count": 583,
     "metadata": {},
     "output_type": "execute_result"
    }
   ],
   "source": [
    "X_train.shape, y_train.shape"
   ]
  },
  {
   "cell_type": "markdown",
   "metadata": {},
   "source": [
    "### Build the model"
   ]
  },
  {
   "cell_type": "code",
   "execution_count": 609,
   "metadata": {
    "scrolled": false
   },
   "outputs": [
    {
     "name": "stderr",
     "output_type": "stream",
     "text": [
      "C:\\Users\\abhishekbhardwaj01\\AppData\\Local\\Continuum\\anaconda3\\lib\\site-packages\\sklearn\\linear_model\\logistic.py:432: FutureWarning: Default solver will be changed to 'lbfgs' in 0.22. Specify a solver to silence this warning.\n",
      "  FutureWarning)\n",
      "C:\\Users\\abhishekbhardwaj01\\AppData\\Local\\Continuum\\anaconda3\\lib\\site-packages\\sklearn\\svm\\base.py:929: ConvergenceWarning: Liblinear failed to converge, increase the number of iterations.\n",
      "  \"the number of iterations.\", ConvergenceWarning)\n"
     ]
    },
    {
     "data": {
      "text/plain": [
       "0.9602736122073139"
      ]
     },
     "execution_count": 609,
     "metadata": {},
     "output_type": "execute_result"
    }
   ],
   "source": [
    "# # Create regularization penalty space\n",
    "# penalty = ['l1', 'l2']\n",
    "\n",
    "# # Create regularization hyperparameter space\n",
    "# C = np.logspace(0, 4, 10)\n",
    "\n",
    "# # Create hyperparameter options\n",
    "# hyperparameters = dict(C=C, penalty=penalty)\n",
    "\n",
    "# # Create grid search using 5-fold cross validation\n",
    "# clf = GridSearchCV(LogisticRegression(solver = 'lbfgs',random_state=1), hyperparameters, cv=5, verbose=0)\n",
    "\n",
    "# Fit grid search\n",
    "best_model = LogisticRegression().fit(X_train, y_train)\n",
    "\n",
    "# # View best hyperparameters\n",
    "# print('Best Penalty:', best_model.best_estimator_.get_params()['penalty'])\n",
    "# print('Best C:', best_model.best_estimator_.get_params()['C'])\n",
    "\n",
    "# Predict target vector\n",
    "best_model.score(X_test, y_test)"
   ]
  },
  {
   "cell_type": "markdown",
   "metadata": {},
   "source": [
    "### Predict and save the results"
   ]
  },
  {
   "cell_type": "code",
   "execution_count": 610,
   "metadata": {},
   "outputs": [],
   "source": [
    "#Global Function\n",
    "def predictnsave(ID, filename, model, test_data):\n",
    "    y_predict  = model.predict_proba(test_data)[:,1]\n",
    "    #print(np.unique(y_predict,return_counts=True))\n",
    "    predict_df = pd.DataFrame(columns = ['ID', 'TARGET'])\n",
    "    predict_df['ID'] = test_ID\n",
    "    predict_df['TARGET'] = y_predict\n",
    "    predict_df.to_csv(filename,index=False)"
   ]
  },
  {
   "cell_type": "code",
   "execution_count": 611,
   "metadata": {},
   "outputs": [],
   "source": [
    "predictnsave(test_ID,'santander_LR_PCA_Probav1.csv',best_model, test_df_new)\n",
    "#Accuracy of 78 % on private leaderboard"
   ]
  },
  {
   "cell_type": "markdown",
   "metadata": {},
   "source": [
    "### Improving the results"
   ]
  },
  {
   "cell_type": "markdown",
   "metadata": {},
   "source": [
    "#### Random Forest Classifier"
   ]
  },
  {
   "cell_type": "code",
   "execution_count": 612,
   "metadata": {},
   "outputs": [
    {
     "data": {
      "text/plain": [
       "RandomForestClassifier(bootstrap=True, class_weight=None, criterion='gini',\n",
       "                       max_depth=None, max_features='sqrt', max_leaf_nodes=None,\n",
       "                       min_impurity_decrease=0.0, min_impurity_split=None,\n",
       "                       min_samples_leaf=1, min_samples_split=2,\n",
       "                       min_weight_fraction_leaf=0.0, n_estimators=100,\n",
       "                       n_jobs=None, oob_score=False, random_state=None,\n",
       "                       verbose=0, warm_start=False)"
      ]
     },
     "execution_count": 612,
     "metadata": {},
     "output_type": "execute_result"
    }
   ],
   "source": [
    "from sklearn.ensemble import RandomForestClassifier\n",
    "\n",
    "# Create the model with 100 trees\n",
    "model_randomforestclf = RandomForestClassifier(n_estimators=100, \n",
    "                               bootstrap = True,\n",
    "                               max_features = 'sqrt')\n",
    "# Fit on training data\n",
    "model_randomforestclf.fit(X_train, y_train)"
   ]
  },
  {
   "cell_type": "code",
   "execution_count": 613,
   "metadata": {},
   "outputs": [
    {
     "name": "stdout",
     "output_type": "stream",
     "text": [
      "Accuracy Score is:  0.9582346750855039\n",
      "ROC_AUC Score:  0.7963902833616316\n"
     ]
    }
   ],
   "source": [
    "print('Accuracy Score is: ',model_randomforestclf.score(X_test, y_test))\n",
    "print('ROC_AUC Score: ',roc_auc_score(y_test, model_randomforestclf.predict_proba(X_test)[:, 1]))"
   ]
  },
  {
   "cell_type": "code",
   "execution_count": 614,
   "metadata": {},
   "outputs": [],
   "source": [
    "predictnsave(test_ID,'santander_RandomForestCLF_PCA_FeatureSelection_Probv1.csv',model_randomforestclf, test_df_new)\n",
    "#75% on private leaderboard "
   ]
  },
  {
   "cell_type": "markdown",
   "metadata": {},
   "source": [
    "#### XGBoost"
   ]
  },
  {
   "cell_type": "code",
   "execution_count": null,
   "metadata": {},
   "outputs": [],
   "source": [
    "!pip install xgboost"
   ]
  },
  {
   "cell_type": "code",
   "execution_count": 371,
   "metadata": {},
   "outputs": [],
   "source": [
    "import xgboost as xgb\n",
    "from sklearn.model_selection import StratifiedKFold\n",
    "from sklearn.model_selection import cross_val_score, cross_val_predict"
   ]
  },
  {
   "cell_type": "code",
   "execution_count": 383,
   "metadata": {},
   "outputs": [],
   "source": [
    "model_xgboost = xgb.XGBClassifier(max_depth=4, n_estimators=110, nthread=-1,seed=12)\n",
    "# kfold = StratifiedKFold(n_splits=10, random_state=7)\n",
    "# results = cross_val_score(model_xgboost, X, y, cv=kfold)\n",
    "# print(\"Accuracy: %.2f%% (%.2f%%)\" % (results.mean()*100, results.std()*100))"
   ]
  },
  {
   "cell_type": "code",
   "execution_count": 384,
   "metadata": {},
   "outputs": [
    {
     "data": {
      "text/plain": [
       "XGBClassifier(base_score=0.5, booster='gbtree', colsample_bylevel=1,\n",
       "              colsample_bynode=1, colsample_bytree=1, gamma=0,\n",
       "              learning_rate=0.1, max_delta_step=0, max_depth=4,\n",
       "              min_child_weight=1, missing=None, n_estimators=110, n_jobs=1,\n",
       "              nthread=-1, objective='binary:logistic', random_state=0,\n",
       "              reg_alpha=0, reg_lambda=1, scale_pos_weight=1, seed=12,\n",
       "              silent=None, subsample=1, verbosity=1)"
      ]
     },
     "execution_count": 384,
     "metadata": {},
     "output_type": "execute_result"
    }
   ],
   "source": [
    "model_xgboost.fit(X_train_new, y_train)"
   ]
  },
  {
   "cell_type": "code",
   "execution_count": 385,
   "metadata": {},
   "outputs": [],
   "source": [
    "y_pred = model_xgboost.predict(X_test_new)\n",
    "y_pred = [round(value) for value in y_pred]"
   ]
  },
  {
   "cell_type": "code",
   "execution_count": 386,
   "metadata": {},
   "outputs": [
    {
     "data": {
      "text/plain": [
       "(0.9603393843725335, 0.03966061562746648)"
      ]
     },
     "execution_count": 386,
     "metadata": {},
     "output_type": "execute_result"
    }
   ],
   "source": [
    "from sklearn.metrics import accuracy_score\n",
    "accuracy_score(y_pred, y_test), 1-accuracy_score(y_pred, y_test)"
   ]
  },
  {
   "cell_type": "code",
   "execution_count": 387,
   "metadata": {},
   "outputs": [
    {
     "name": "stdout",
     "output_type": "stream",
     "text": [
      "(array([0, 1], dtype=int64), array([75813,     5], dtype=int64))\n"
     ]
    }
   ],
   "source": [
    "predictnsave(test_ID, 'XGBoost_PCA_Scaled_FeatureSelection_updated.csv',model_xgboost, test_df_new)"
   ]
  },
  {
   "cell_type": "code",
   "execution_count": 380,
   "metadata": {},
   "outputs": [],
   "source": [
    "from sklearn.ensemble import ExtraTreesClassifier\n",
    "from sklearn.feature_selection import SelectFromModel"
   ]
  },
  {
   "cell_type": "code",
   "execution_count": 379,
   "metadata": {},
   "outputs": [
    {
     "name": "stderr",
     "output_type": "stream",
     "text": [
      "C:\\Users\\abhishekbhardwaj01\\AppData\\Local\\Continuum\\anaconda3\\lib\\site-packages\\sklearn\\ensemble\\forest.py:245: FutureWarning: The default value of n_estimators will change from 10 in version 0.20 to 100 in 0.22.\n",
      "  \"10 in version 0.20 to 100 in 0.22.\", FutureWarning)\n"
     ]
    }
   ],
   "source": [
    "#Feature selection\n",
    "\n",
    "clf = ExtraTreesClassifier(random_state=1000)\n",
    "selector = clf.fit(X_train_new, y_train)\n"
   ]
  },
  {
   "cell_type": "code",
   "execution_count": 381,
   "metadata": {},
   "outputs": [
    {
     "name": "stdout",
     "output_type": "stream",
     "text": [
      "(60816, 9) (15204, 9) (75818, 9)\n"
     ]
    }
   ],
   "source": [
    "fs = SelectFromModel(selector, prefit=True)\n",
    "\n",
    "X_train_temp = fs.transform(X_train_new)\n",
    "X_test_temp = fs.transform(X_test_new)\n",
    "test_df_temp = fs.transform(test_df_new)\n",
    "\n",
    "print(X_train_temp.shape, X_test_temp.shape, test_df_temp.shape)"
   ]
  },
  {
   "cell_type": "code",
   "execution_count": 382,
   "metadata": {},
   "outputs": [
    {
     "name": "stdout",
     "output_type": "stream",
     "text": [
      "max_depth =%s 1\n",
      "Roc AUC:  0.5\n",
      "max_depth =%s 2\n",
      "Roc AUC:  0.8024433911078355\n",
      "max_depth =%s 3\n",
      "Roc AUC:  0.8102098461417544\n",
      "max_depth =%s 4\n",
      "Roc AUC:  0.81302514207948\n",
      "max_depth =%s 5\n",
      "Roc AUC:  0.8121652882086383\n",
      "max_depth =%s 6\n",
      "Roc AUC:  0.8095066752396499\n",
      "max_depth =%s 7\n",
      "Roc AUC:  0.8092483385869547\n",
      "max_depth =%s 8\n",
      "Roc AUC:  0.809035944856227\n"
     ]
    }
   ],
   "source": [
    "#--------------------Train Model-------------------------------------------\n",
    "#xgboost\n",
    "#@fn_timer \n",
    "def trainModel(i):\n",
    "    m2_xgb = xgb.XGBClassifier(n_estimators=110, nthread=-1, max_depth = i, seed=1000)\n",
    "    m2_xgb.fit(X_train_temp, y_train, eval_metric=\"auc\", verbose = False,\n",
    "               eval_set=[(X_test_temp, y_test)])\n",
    "    return m2_xgb\n",
    "\n",
    "    \n",
    "   \n",
    "# calculate the auc score.   tune the parameters ...\n",
    "for i in range(8):\n",
    "    print(\"max_depth =%s\" ,i+1 )\n",
    "    print(\"Roc AUC: \", roc_auc_score(y_test, trainModel(i).predict_proba(X_test_temp)[:,1]))"
   ]
  },
  {
   "cell_type": "code",
   "execution_count": 388,
   "metadata": {},
   "outputs": [],
   "source": [
    "probs = trainModel(5).predict_proba(X_test_temp)"
   ]
  },
  {
   "cell_type": "code",
   "execution_count": 394,
   "metadata": {},
   "outputs": [
    {
     "data": {
      "text/plain": [
       "0.9603393843725335"
      ]
     },
     "execution_count": 394,
     "metadata": {},
     "output_type": "execute_result"
    }
   ],
   "source": [
    "trainModel(4).score(X_test_temp,y_test)"
   ]
  },
  {
   "cell_type": "code",
   "execution_count": null,
   "metadata": {},
   "outputs": [],
   "source": []
  }
 ],
 "metadata": {
  "kernelspec": {
   "display_name": "Python 3",
   "language": "python",
   "name": "python3"
  },
  "language_info": {
   "codemirror_mode": {
    "name": "ipython",
    "version": 3
   },
   "file_extension": ".py",
   "mimetype": "text/x-python",
   "name": "python",
   "nbconvert_exporter": "python",
   "pygments_lexer": "ipython3",
   "version": "3.6.5"
  }
 },
 "nbformat": 4,
 "nbformat_minor": 2
}
